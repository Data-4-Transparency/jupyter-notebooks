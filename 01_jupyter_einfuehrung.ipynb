{
 "cells": [
  {
   "cell_type": "markdown",
   "metadata": {},
   "source": [
    "# Einführung in Jupyter Notebooks"
   ]
  },
  {
   "cell_type": "markdown",
   "metadata": {},
   "source": [
    "# Was sind Jupyter Notebooks? \n",
    "\n",
    "- Interaktive webbasierte Anwendung\n",
    "- Erlaubt das Erstellen von Dokumenten mit ausführbarem Code und erläuterndem Text\n",
    "- Enthält Unterstützung für mathematische Formeln, Grafiken und mehr\n",
    "- Beliebt in Datenwissenschaft, wissenschaftlicher Forschung und Bildung\n",
    "- Fördert Zusammenarbeit und Reproduzierbarkeit von Forschung\n",
    "- Kombiniert Code, Dokumentation und Visualisierungen in einer Umgebung\n",
    "- Ideal für Ideenprotokollierung, Forschungsdokumentation und Datenanalysen\n",
    "- Geeignet für Benutzer ohne umfassende Programmierkenntnisse\n"
   ]
  },
  {
   "cell_type": "markdown",
   "metadata": {},
   "source": [
    "## Warum Jupyter Notebooks?\n",
    "\n",
    "- **Interaktivität:** Sie können Code ausführen und die Ergebnisse in Echtzeit sehen, was das Lernen und die Datenanalyse erleichtert.\n",
    "\n",
    "- **Dokumentation:** Sie können Text in Markdown schreiben, um Ihre Gedanken und Erklärungen festzuhalten, was die Kommunikation Ihrer Ergebnisse verbessert.\n",
    "\n",
    "- **Keine Programmiererfahrung erforderlich:** Sie können Jupyter Notebooks verwenden, auch wenn Sie noch keine Programmiererfahrung haben."
   ]
  },
  {
   "cell_type": "markdown",
   "metadata": {},
   "source": [
    "## Jupyter-Grundlagen"
   ]
  },
  {
   "cell_type": "markdown",
   "metadata": {},
   "source": [
    "### Zellen\n",
    "\n",
    "Zellen sind die Grundbausteine von Jupyter Notebooks. Es gibt verschiedene Arten von Zellen, aber wir werden uns auf Code- und Markdown-Zellen konzentrieren."
   ]
  },
  {
   "cell_type": "markdown",
   "metadata": {},
   "source": [
    "### Erstellen, Löschen und Bearbeiten von Zellen\n",
    "\n",
    "- Um eine neue Zelle über der aktuellen zu erstellen, drücken Sie die \"A\"-Taste. Drücken Sie \"B\", um eine Zelle unter der aktuellen zu erstellen. Stellen Sie sicher, dass Sie sich nicht im Bearbeitungsmodus befinden, indem Sie auf \"Esc\" klicken."
   ]
  },
  {
   "cell_type": "markdown",
   "metadata": {},
   "source": [
    "- Um eine Zelle zu bearbeiten, drücken Sie \"Enter\". Sie können den Zellentyp ändern, indem Sie \"M\" für Markdown und \"Y\" für Code drücken. Neue Zellen sind standardmäßig Code-Zellen."
   ]
  },
  {
   "cell_type": "markdown",
   "metadata": {},
   "source": [
    "- Um eine Zelle zu löschen, drücken Sie \"D\" zweimal. Achten Sie darauf, nicht versehentlich wichtige Zellen zu löschen. Sie können Operationen mit \"Z\" rückgängig machen."
   ]
  },
  {
   "cell_type": "markdown",
   "metadata": {},
   "source": [
    "### Ausführen von Zellen\n",
    "\n",
    "Um eine Zelle auszuführen, drücken Sie \"Strg+Enter\". Sie können auch \"Shift+Enter\" verwenden, um eine Zelle auszuführen und zur nächsten Zelle zu wechseln."
   ]
  },
  {
   "cell_type": "markdown",
   "metadata": {},
   "source": [
    "### Beispiel: Code-Zelle\n",
    "\n",
    "Lassen Sie uns eine Code-Zelle ausführen:"
   ]
  },
  {
   "cell_type": "code",
   "execution_count": 1,
   "metadata": {
    "ExecuteTime": {
     "end_time": "2023-11-09T22:07:20.316785200Z",
     "start_time": "2023-11-09T22:07:20.301181900Z"
    }
   },
   "outputs": [
    {
     "data": {
      "text/plain": [
       "7"
      ]
     },
     "execution_count": 1,
     "metadata": {},
     "output_type": "execute_result"
    }
   ],
   "source": [
    "4 + 3"
   ]
  },
  {
   "cell_type": "markdown",
   "metadata": {},
   "source": [
    "### Beispiel: Markdown-Zelle"
   ]
  },
  {
   "cell_type": "markdown",
   "metadata": {},
   "source": [
    "```\n",
    "Hello World\n",
    "```"
   ]
  },
  {
   "cell_type": "markdown",
   "metadata": {},
   "source": [
    "## Einführung in Markdown\n",
    "### Markdown-Überschriften\n",
    "\n",
    "Erstellen Sie eine neue Markdown-Zelle unter dieser und fügen Sie Überschriften hinzu:"
   ]
  },
  {
   "cell_type": "markdown",
   "metadata": {},
   "source": [
    "```markdown\n",
    "# Meine Überschrift\n",
    "## Unterüberschrift\n",
    "### Unter-Unterüberschrift\n",
    "```"
   ]
  },
  {
   "cell_type": "markdown",
   "metadata": {},
   "source": [
    "### Aufzählungslisten\n",
    "Erstellen Sie eine Aufzählungsliste in einer neuen Markdown-Zelle:"
   ]
  },
  {
   "cell_type": "markdown",
   "metadata": {},
   "source": [
    "```markdown\n",
    "- Punkt 1\n",
    "- Punkt 2\n",
    "  - Unterpunkt 2.1\n",
    "  - Unterpunkt 2.2\n",
    "- Punkt 3\n",
    "```"
   ]
  },
  {
   "cell_type": "markdown",
   "metadata": {},
   "source": [
    "### Einrückungen\n",
    "Sie können Text einrücken, um wichtige Punkte, Zitate oder Codeblöcke hervorzuheben. Erstellen Sie eine neue Markdown-Zelle und verwenden Sie das \">\"-Zeichen:"
   ]
  },
  {
   "cell_type": "markdown",
   "metadata": {},
   "source": [
    "```markdown\n",
    "> Dies ist ein eingerückter Text, der hervorgehoben werden kann.\n",
    "```"
   ]
  },
  {
   "cell_type": "markdown",
   "metadata": {
    "collapsed": false,
    "jupyter": {
     "outputs_hidden": false
    }
   },
   "source": [
    "> Dies ist ein eingerückter Text, der hervorgehoben werden kann."
   ]
  },
  {
   "cell_type": "markdown",
   "metadata": {},
   "source": [
    "### Zeilenumbrüche"
   ]
  },
  {
   "cell_type": "markdown",
   "metadata": {},
   "source": [
    "Um Zeilenumbrüche zu erzwingen, verwenden Sie das `<br>`-Tag in einer neuen Markdown-Zelle:"
   ]
  },
  {
   "cell_type": "markdown",
   "metadata": {},
   "source": [
    "```markdown\n",
    "Line 1<br>Line 2\n",
    "```"
   ]
  },
  {
   "cell_type": "markdown",
   "metadata": {
    "collapsed": false,
    "jupyter": {
     "outputs_hidden": false
    }
   },
   "source": [
    "Line 1<br>Line 2"
   ]
  },
  {
   "cell_type": "markdown",
   "metadata": {
    "collapsed": false,
    "jupyter": {
     "outputs_hidden": false
    }
   },
   "source": [
    "### In-Class-Übung"
   ]
  },
  {
   "cell_type": "markdown",
   "metadata": {},
   "source": [
    "Erstellen Sie in einer neuen Markdown-Zelle Überschriften, Aufzählungslisten, Einrückungen und Zeilenumbrüche, um den Umgang mit Markdown zu üben."
   ]
  }
 ],
 "metadata": {
  "kernelspec": {
   "display_name": "Python 3 (ipykernel)",
   "language": "python",
   "name": "python3"
  },
  "language_info": {
   "codemirror_mode": {
    "name": "ipython",
    "version": 3
   },
   "file_extension": ".py",
   "mimetype": "text/x-python",
   "name": "python",
   "nbconvert_exporter": "python",
   "pygments_lexer": "ipython3",
   "version": "3.10.10"
  }
 },
 "nbformat": 4,
 "nbformat_minor": 4
}

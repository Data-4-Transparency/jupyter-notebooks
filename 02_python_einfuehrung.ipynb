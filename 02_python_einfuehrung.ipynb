{
 "cells": [
  {
   "cell_type": "markdown",
   "metadata": {
    "collapsed": false,
    "jupyter": {
     "outputs_hidden": false
    }
   },
   "source": [
    "# 1. Grundlagen von Python\n",
    "## 1.1 Variablen\n",
    "\n",
    "In einer Programmiersprache sind Variablen Speicherplätze, die verwendet werden, um Daten temporär zu speichern und zu verarbeiten. Jede Variable hat einen Namen und einen Wert, der in ihr gespeichert ist. Variablen dienen dazu, Informationen in einem Programm zu speichern, zu manipulieren und abzurufen. Sie sind grundlegend für die Arbeitsweise von Programmiersprachen.\n",
    "\n",
    "Die wichtigsten Infos zu Variablen in Programmiersprachen:\n",
    "\n",
    "- **Variablennamen:** Jede Variable hat einen Namen, der verwendet wird, um auf sie zuzugreifen. Diese Namen müssen in Übereinstimmung mit den Regeln der jeweiligen Programmiersprache erstellt werden und können Buchstaben, Zahlen und einige Sonderzeichen enthalten. Sie sind in der Regel case-sensitive, was bedeutet, dass Groß- und Kleinschreibung unterschieden wird.\n",
    "\n",
    "- **Variablenwerte**: Variablen speichern Daten, die in verschiedenen Formen auftreten können, wie ganze Zahlen, Gleitkommazahlen, Zeichenketten (Text), boolesche Werte (wahr oder falsch), Arrays (Listen von Werten) und mehr, abhängig von der verwendeten Programmiersprache.\n",
    "\n",
    "- **Datentypen**: Variablen haben Datentypen, die festlegen, welche Art von Daten sie speichern können. Beispiele für Datentypen sind ganze Zahlen (int), Gleitkommazahlen (float), Zeichenketten (string) und boolesche Werte (bool).\n",
    "\n",
    "- **Wertzuweisung**: Man kann einer Variable einen Wert zuweisen, indem man den Variablennamen gefolgt von einem Zuweisungsoperator (=) und dem gewünschten Wert verwendet. Beispiel: x = 10 -> weist der Variable \"x\" den Wert 10 zu.\n",
    "\n",
    "- **Verwendung und Manipulation**: Nachdem eine Variable deklariert und initialisiert wurde, kann man sie im Programmen verwenden, um Berechnungen durchzuführen, Daten anzuzeigen oder auf andere Weisen damit arbeiten."
   ]
  },
  {
   "cell_type": "markdown",
   "metadata": {
    "collapsed": false,
    "jupyter": {
     "outputs_hidden": false
    }
   },
   "source": [
    "Definition einer Variable und Wertzuweisung einer Zeichenkette(string):"
   ]
  },
  {
   "cell_type": "code",
   "execution_count": 1,
   "metadata": {
    "ExecuteTime": {
     "end_time": "2023-11-09T22:14:19.685625700Z",
     "start_time": "2023-11-09T22:14:19.664499800Z"
    }
   },
   "outputs": [],
   "source": [
    "a = \"Hello\"\n",
    "a = 'Hello'\n",
    "\n",
    "# Mehrzeiliger String\n",
    "multiline_string = \"\"\"\n",
    "Dies ist ein mehrzeiliger String.\n",
    "Sie können so viele Zeilen wie Sie möchten einfügen.\n",
    "Die Zeilenumbrüche werden beibehalten.\n",
    "\"\"\""
   ]
  },
  {
   "cell_type": "markdown",
   "metadata": {
    "collapsed": false,
    "jupyter": {
     "outputs_hidden": false
    }
   },
   "source": [
    "Ausgabe des Wertes und des Datentyps einer Variable"
   ]
  },
  {
   "cell_type": "code",
   "execution_count": 2,
   "metadata": {
    "ExecuteTime": {
     "end_time": "2023-11-09T22:14:30.671424400Z",
     "start_time": "2023-11-09T22:14:30.660420300Z"
    }
   },
   "outputs": [
    {
     "name": "stdout",
     "output_type": "stream",
     "text": [
      "Hello\n",
      "<class 'str'>\n",
      "\n",
      "Dies ist ein mehrzeiliger String.\n",
      "Sie können so viele Zeilen wie Sie möchten einfügen.\n",
      "Die Zeilenumbrüche werden beibehalten.\n",
      "\n"
     ]
    }
   ],
   "source": [
    "print(a)\n",
    "print(type(a))\n",
    "print(multiline_string)"
   ]
  },
  {
   "cell_type": "markdown",
   "metadata": {
    "collapsed": false,
    "jupyter": {
     "outputs_hidden": false
    }
   },
   "source": [
    "### Weitere Datentypen\n",
    "\n",
    "- **Integer** (Ganzzahlen): Integer wird verwendet, um ganze Zahlen darzustellen, sowohl positive als auch negative, ohne Dezimalstellen. Sie eignen sich für Berechnungen, die exakte, ganze zahlen erfordern wie Schleifenindizes, Ganzzahlarithmetik usw. Beispiel: `integer_variable = 120`\n",
    "\n",
    "- **Float** (Gleitkommazahlen): Floats werden verwendet, um nicht-ganze Zahlen mit Dezimalstellen darzustellen. Sie eignen sich hervorragend für Berechnungen, die eine hohe Präzision erfordern. Beispiel: `float_variable = 1.987`\n",
    "\n",
    "- **Boolean** (Boolesche Werte): Booleans repräsentieren Wahrheitswerte und können nur zwei Werte haben: True oder False. Sie eignen sich für logische Operationen und Kontrollstrukturen wie Bedingungen und Schleifen. Beispiel: `boolean_variable = False`\n",
    "\n",
    "- **Liste** (listen): Listen in Python dienen dazu, eine Sammlung von Elementen zu speichern. Diese Elemente können von unterschiedlichen Datentypen sein und die Liste kann geändert und manipuliert werden. Listen werden häufig verwendet, wenn eine sequentielle Sammlung von Elementen benötigt wird. Beispiel: `list_variable = [15,20,40,10,12]`\n",
    "\n",
    "- **Dictionary** (Wörterbücher): Ein Dictionary in Python ist eine ungeordnete Sammlung von Schlüssel-Wert-Paaren. Sie ermöglichen eine schnelle Datensuche auf der Grundlage von Schlüsseln. Wörterbücher eignen sich für Fälle, in denen Sie eindeutige Schlüssel haben, die auf bestimmte Werte verweisen. Beispiel: `dictonary_variable = {\"Name\":\"Philipp\", \"Alter\":22, \"Job\": \"Student\", \"Gehalt\": 0}`"
   ]
  },
  {
   "cell_type": "code",
   "execution_count": 3,
   "metadata": {
    "ExecuteTime": {
     "end_time": "2023-11-09T22:14:53.862084600Z",
     "start_time": "2023-11-09T22:14:53.835100300Z"
    },
    "collapsed": false,
    "jupyter": {
     "outputs_hidden": false
    }
   },
   "outputs": [
    {
     "name": "stdout",
     "output_type": "stream",
     "text": [
      "120\n",
      "<class 'int'>\n",
      "--------\n",
      "1.987\n",
      "<class 'float'>\n",
      "--------\n",
      "False\n",
      "<class 'bool'>\n",
      "--------\n",
      "[15, 20, 40, 10, 12]\n",
      "<class 'list'>\n",
      "--------\n",
      "{'Name': 'Philipp', 'Alter': 22, 'Job': 'Student', 'Gehalt': 0}\n",
      "<class 'dict'>\n"
     ]
    }
   ],
   "source": [
    "integer_variable = 120\n",
    "print(integer_variable)\n",
    "print(type(integer_variable))\n",
    "print(\"--------\")\n",
    "\n",
    "float_variable = 1.987\n",
    "print(float_variable)\n",
    "print(type(float_variable))\n",
    "print(\"--------\")\n",
    "\n",
    "boolean_variable = False\n",
    "print(boolean_variable)\n",
    "print(type(boolean_variable))\n",
    "print(\"--------\")\n",
    "\n",
    "list_variable = [15,20,40,10,12]\n",
    "print(list_variable)\n",
    "print(type(list_variable))\n",
    "print(\"--------\")\n",
    "\n",
    "dictonary_variable = {\"Name\":\"Philipp\", \"Alter\":22, \"Job\": \"Student\", \"Gehalt\": 0}\n",
    "print(dictonary_variable)\n",
    "print(type(dictonary_variable))"
   ]
  },
  {
   "cell_type": "markdown",
   "metadata": {
    "collapsed": false,
    "jupyter": {
     "outputs_hidden": false
    }
   },
   "source": [
    "**String-Konkatenation** ist der Prozess, durch den zwei oder mehrere Textstränge (Strings) zu einem einzigen Textstrang (String) zusammengefügt oder verbunden werden. In Python führt der `+` Operator eine solche Verknüpfung von Strings durch.\n",
    "\n",
    "Betrachten Sie zum Beispiel die folgenden Python-Zeilen:"
   ]
  },
  {
   "cell_type": "code",
   "execution_count": 4,
   "metadata": {
    "ExecuteTime": {
     "end_time": "2023-11-09T15:28:09.608333Z",
     "start_time": "2023-11-09T15:28:09.343332600Z"
    }
   },
   "outputs": [
    {
     "name": "stdout",
     "output_type": "stream",
     "text": [
      "HelloWorld\n",
      "Hello World :-)\n"
     ]
    }
   ],
   "source": [
    "b = \"World\"\n",
    "kombi = a + b\n",
    "print(kombi)\n",
    "\n",
    "kombi_schön = a + \" \" + b + \" :-)\"\n",
    "print(kombi_schön)"
   ]
  },
  {
   "cell_type": "markdown",
   "metadata": {
    "collapsed": false,
    "jupyter": {
     "outputs_hidden": false
    }
   },
   "source": [
    "### Mathematische Operationen"
   ]
  },
  {
   "cell_type": "code",
   "execution_count": 5,
   "metadata": {
    "ExecuteTime": {
     "end_time": "2023-11-09T15:28:09.609331700Z",
     "start_time": "2023-11-09T15:28:09.359331200Z"
    }
   },
   "outputs": [
    {
     "name": "stdout",
     "output_type": "stream",
     "text": [
      "10 + 5 = 15\n",
      "15 - 5 = 10\n",
      "10 * 2 = 20\n",
      "20 / 2 = 10.0\n",
      "11 % 2 = 1\n"
     ]
    }
   ],
   "source": [
    "# Addition: Addiert 5 zum Wert der add_variable\n",
    "add_variable = 10\n",
    "add_variable = add_variable + 5\n",
    "print(f\"10 + 5 = {add_variable}\")\n",
    "\n",
    "# Subtraktion: Subtrahiert 5 vom Wert der sub_variable\n",
    "sub_variable = 15\n",
    "sub_variable = sub_variable - 5\n",
    "print(f\"15 - 5 = {sub_variable}\")\n",
    "\n",
    "# Multiplikation: Multipliziert den Wert der mul_variable mit 2\n",
    "mul_variable = 10\n",
    "mul_variable = mul_variable * 2\n",
    "print(f\"10 * 2 = {mul_variable}\")\n",
    "\n",
    "# Division: Teilt den Wert der div_variable durch 2\n",
    "div_variable = 20\n",
    "div_variable = div_variable / 2\n",
    "print(f\"20 / 2 = {div_variable}\")\n",
    "\n",
    "# Modulus: Gibt den Rest der Division von mod_variable durch 2 zurück\n",
    "mod_variable = 11\n",
    "mod_variable = mod_variable % 2\n",
    "print(f\"11 % 2 = {mod_variable}\")"
   ]
  },
  {
   "cell_type": "markdown",
   "metadata": {
    "collapsed": false,
    "jupyter": {
     "outputs_hidden": false
    }
   },
   "source": []
  },
  {
   "cell_type": "markdown",
   "metadata": {
    "collapsed": false,
    "jupyter": {
     "outputs_hidden": false
    }
   },
   "source": [
    "In Python können Sie die Formatierung(f) von Strings verwenden, um eingebettete Ausdrucke in String-Literalen zu haben. Im obigen Code zeigt der Ausdruck {} innerhalb des Strings an, dass dort der Wert einer Variable eingefügt werden soll."
   ]
  },
  {
   "cell_type": "markdown",
   "metadata": {},
   "source": [
    " ## 1.2 Funktionen\n",
    "Funktionen (auch als Methoden, Prozeduren oder Subroutinen bezeichnet) sind benannte Codeblöcke oder Unterprogramme, die dazu dienen, bestimmte Aufgaben auszuführen. Funktionen sind wichtige Bausteine in der Softwareentwicklung und bieten eine Möglichkeit, Code zu strukturieren, zu organisieren und zu modularisieren.\n",
    "\n",
    "Die wichtigsten Infos zu Funktionen in Programmiersprachen/Python:\n",
    "\n",
    "- **Funktionsnamen**: Jede Funktion hat einen eindeutigen Namen, der verwendet wird, um auf sie zuzugreifen. Funktionen werden in der Regel benannt, um die Aufgabe oder den Zweck zu beschreiben, den sie erfüllen. Der Funktionsname dient dazu, die Funktion im Code aufzurufen.\n",
    "\n",
    "- **Parameter**: Funktionen können Parameter akzeptieren, die als Eingabe dienen. Diese Parameter sind Werte oder Variablen, die an die Funktion übergeben werden, wenn sie aufgerufen wird. Die Funktion kann diese Parameter verwenden, um darauf Operationen durchzuführen.\n",
    "\n",
    "- **Rückgabewert**: Funktionen können auch einen Rückgabewert haben(return), der den berechneten oder verarbeiteten Wert darstellt. Nach der Ausführung gibt die Funktion diesen Wert zurück, und der Aufrufer kann ihn verwenden. Nicht alle Funktionen müssen einen Rückgabewert haben.\n",
    "\n",
    "- **Wiederverwendbarkeit**: Funktionen fördern die Wiederverwendbarkeit von Code. Sie ermöglichen es, einen Satz von Anweisungen an einer Stelle zu definieren und dann an verschiedenen Stellen im Programm aufzurufen, anstatt den Code mehrmals zu wiederholen.\n",
    "\n",
    "- **Modularität**: Funktionen tragen zur Modularität von Code bei. Sie helfen dabei, große und komplexe Programme in kleinere, leichter zu verwaltende Module oder Teile aufzuteilen. Dies erleichtert die Entwicklung, Wartung und Fehlerbehebung.\n",
    "\n",
    "- **Funktionsaufruf**: Um eine Funktion auszuführen, ruft man sie im Code auf, indem man ihren Namen gefolgt von Klammern verwendet. Wenn die Funktion Parameter erwartet, werden diese in den Klammern übergeben. Der Rückgabewert kann in einer Variablen gespeichert oder direkt verwendet werden."
   ]
  },
  {
   "cell_type": "code",
   "execution_count": 6,
   "metadata": {
    "ExecuteTime": {
     "end_time": "2023-11-09T15:28:09.623336600Z",
     "start_time": "2023-11-09T15:28:09.394332600Z"
    }
   },
   "outputs": [
    {
     "name": "stdout",
     "output_type": "stream",
     "text": [
      "8\n"
     ]
    }
   ],
   "source": [
    "# Beispiel einer einfachen Funktion, welche die Summe zweier Zahlen zurückgibt\n",
    "def addiere(zahl1, zahl2):\n",
    "    summe = zahl1 + zahl2\n",
    "    return summe\n",
    "\n",
    "ergebnis = addiere(6, 2)\n",
    "print(ergebnis)"
   ]
  },
  {
   "cell_type": "markdown",
   "metadata": {},
   "source": [
    "### 1.3 Schleifen und Bedingungen\n",
    "Schleifen sind Konstrukte in Programmiersprachen, die es ermöglichen, eine Gruppe von Anweisungen wiederholt auszuführen, solange eine bestimmte Bedingung erfüllt ist. Schleifen sind ein grundlegendes Konzept in der Programmierung und ermöglichen die Automatisierung wiederkehrender Aufgaben. Es gibt zwei häufig verwendete Arten von Schleifen:\n",
    "\n",
    "**For-Schleifen**: Eine For-Schleife wird verwendet, wenn die Anzahl der Schleifendurchläufe im Voraus bekannt ist. Die Schleife durchläuft eine Sammlung von Elementen (z. B. eine Liste) oder wiederholt eine Gruppe von Anweisungen eine bestimmte Anzahl von Malen.\n",
    "\n"
   ]
  },
  {
   "cell_type": "code",
   "execution_count": 7,
   "metadata": {
    "ExecuteTime": {
     "end_time": "2023-11-09T15:28:09.627334200Z",
     "start_time": "2023-11-09T15:28:09.407329300Z"
    }
   },
   "outputs": [
    {
     "name": "stdout",
     "output_type": "stream",
     "text": [
      "Apfel\n",
      "Banane\n",
      "Kirsche\n"
     ]
    }
   ],
   "source": [
    "fruits = [\"Apfel\", \"Banane\", \"Kirsche\"]\n",
    "for fruit in fruits:\n",
    "    print(fruit)"
   ]
  },
  {
   "cell_type": "markdown",
   "metadata": {},
   "source": [
    "**While-Schleifen**: Eine While-Schleife wird verwendet, wenn die Anzahl der Schleifendurchläufe im Voraus nicht bekannt ist, sondern von einer bestimmten Bedingung abhängt. Die Schleife wird wiederholt ausgeführt, solange die Bedingung wahr ist.\n"
   ]
  },
  {
   "cell_type": "code",
   "execution_count": 8,
   "metadata": {
    "ExecuteTime": {
     "end_time": "2023-11-09T15:28:09.641336100Z",
     "start_time": "2023-11-09T15:28:09.421333200Z"
    }
   },
   "outputs": [
    {
     "name": "stdout",
     "output_type": "stream",
     "text": [
      "1\n",
      "2\n",
      "3\n",
      "4\n",
      "5\n"
     ]
    }
   ],
   "source": [
    "count = 1\n",
    "while count <= 5:\n",
    "    print(count)\n",
    "    count += 1"
   ]
  },
  {
   "cell_type": "markdown",
   "metadata": {},
   "source": [
    "**If-Anweisungen in Schleifen:** If-Anweisungen werden oft innerhalb von Schleifen verwendet, um die Schleife unter bestimmten Bedingungen zu unterbrechen oder fortzusetzen:"
   ]
  },
  {
   "cell_type": "code",
   "execution_count": 9,
   "metadata": {
    "ExecuteTime": {
     "end_time": "2023-11-09T17:00:34.849095100Z",
     "start_time": "2023-11-09T17:00:34.836096600Z"
    }
   },
   "outputs": [
    {
     "name": "stdout",
     "output_type": "stream",
     "text": [
      "8\n",
      "9\n",
      "10\n"
     ]
    }
   ],
   "source": [
    "count = 0\n",
    "while count <= 10:\n",
    "    if(count * 2 >= 16):\n",
    "        print(count)\n",
    "    count += 1"
   ]
  },
  {
   "cell_type": "markdown",
   "metadata": {},
   "source": [
    "Meistens werden Schleifen und Bedingungen innerhalb von Funktionen verwendet:"
   ]
  },
  {
   "cell_type": "code",
   "execution_count": 10,
   "metadata": {
    "ExecuteTime": {
     "end_time": "2023-11-09T15:28:09.664333600Z",
     "start_time": "2023-11-09T15:28:09.455332300Z"
    }
   },
   "outputs": [
    {
     "name": "stdout",
     "output_type": "stream",
     "text": [
      "True\n"
     ]
    }
   ],
   "source": [
    "# Beispiel einer komplexeren Funktion, welche eine überprüft ob eine Zahl eine Primzahl ist\n",
    "def is_prime(number):\n",
    "    if number <= 1:\n",
    "        return False\n",
    "    elif number <= 3:\n",
    "        return True\n",
    "    elif number % 2 == 0 or number % 3 == 0:\n",
    "        return False\n",
    "    i = 5\n",
    "    while i * i <= number:\n",
    "        if number % i == 0 or number % (i + 2) == 0:\n",
    "            return False\n",
    "        i += 6\n",
    "    return True\n",
    "\n",
    "primzahl_test = is_prime(7)\n",
    "print(primzahl_test)\n"
   ]
  },
  {
   "cell_type": "markdown",
   "metadata": {},
   "source": [
    "### Aufgabe: \n",
    "Schreibe eine Funktion, welche prüft ob eine gegebene Zahl gerade ist. "
   ]
  },
  {
   "cell_type": "code",
   "execution_count": 11,
   "metadata": {
    "ExecuteTime": {
     "end_time": "2023-11-09T15:28:09.666335Z",
     "start_time": "2023-11-09T15:28:09.470331200Z"
    }
   },
   "outputs": [],
   "source": [
    "# ** Dein Code **\n",
    "\n",
    "\n"
   ]
  },
  {
   "cell_type": "markdown",
   "metadata": {},
   "source": [
    "## 1.3 Verwendung von Libraries\n",
    "Software Libraries, oft einfach als \"Libraries\" oder \"Bibliotheken\" bezeichnet, sind Sammlungen von vordefiniertem Code, der in Softwareprojekten wiederverwendet werden kann. Diese Code-Sammlungen enthalten Funktionen, Klassen und Routinen, die dazu dienen, wiederkehrende Aufgaben und Operationen zu vereinfachen und zu beschleunigen. Sie sind ein wesentlicher Bestandteil der Softwareentwicklung und ermöglichen Entwicklern, bestehenden Code in ihren eigenen Projekten zu verwenden, anstatt alles von Grund auf neu zu schreiben.\n",
    "\n",
    "Wichtige Merkmale von Software Libraries:\n",
    "\n",
    "- **Wiederverwendbarkeit**: Libraries sind so konzipiert, dass sie in verschiedenen Softwareprojekten wiederverwendet werden können. Dies spart Zeit und Aufwand, da Entwickler nicht jedes Mal denselben Code schreiben müssen.\n",
    "\n",
    "- **Abstraktion**: Libraries bieten oft eine abstrahierte Schnittstelle, die es Entwicklern ermöglicht, auf komplexe Funktionen zuzugreifen, ohne die inneren Details verstehen zu müssen. Dies fördert die Modulare Programmierung.\n",
    "\n",
    "- **Vordefinierte Funktionen**: Libraries enthalten vordefinierte Funktionen und Routinen für häufige Aufgaben. Beispiele sind Funktionen zur Zeichenkettenmanipulation, Datenbankzugriff, mathematische Operationen, Netzwerkkommunikation und vieles mehr.\n",
    "\n",
    "- **Effizienz**: Die Verwendung von Libraries kann die Effizienz der Softwareentwicklung steigern, da Entwickler auf bewährten Code zugreifen können, der bereits auf Stabilität und Leistung getestet wurde.\n",
    "\n",
    "- **Community und Open Source**: Viele Libraries werden von der Developer Community entwickelt und sind Open Source, was bedeutet, dass der Quellcode frei zugänglich ist. Dies fördert die Zusammenarbeit und Innovation.\n",
    "\n",
    "\n",
    "#### Beispiel\n",
    "##### Visualisierung einer Sinus und Cosinus Kurve\n",
    "Um auf eine Library im Python Programmcode zuzugreifen, muss diese zunächst installiert werden. Dies kann zum Beispiel mit dem Paktermanager \"pip\" gemacht werden. In diesem Notebook haben wir die Library bereits vorinstalliert.\n",
    "\n",
    "Der würde lauten: pip install pandas.\n",
    "\n",
    "Um die Library anschließend verwenden zu können, muss diese in das programm eingebunden (\"importiert\") werden:"
   ]
  },
  {
   "cell_type": "code",
   "execution_count": 12,
   "metadata": {
    "ExecuteTime": {
     "end_time": "2023-11-09T15:28:09.679366200Z",
     "start_time": "2023-11-09T15:28:09.484334300Z"
    }
   },
   "outputs": [],
   "source": [
    "# Importieren der libraries\n",
    "import matplotlib.pyplot as plt\n",
    "import numpy as np"
   ]
  },
  {
   "cell_type": "code",
   "execution_count": 13,
   "metadata": {
    "ExecuteTime": {
     "start_time": "2023-11-09T15:28:09.534329300Z"
    }
   },
   "outputs": [
    {
     "name": "stdout",
     "output_type": "stream",
     "text": [
      "[ 0.          0.20408163  0.40816327  0.6122449   0.81632653  1.02040816\n",
      "  1.2244898   1.42857143  1.63265306  1.83673469  2.04081633  2.24489796\n",
      "  2.44897959  2.65306122  2.85714286  3.06122449  3.26530612  3.46938776\n",
      "  3.67346939  3.87755102  4.08163265  4.28571429  4.48979592  4.69387755\n",
      "  4.89795918  5.10204082  5.30612245  5.51020408  5.71428571  5.91836735\n",
      "  6.12244898  6.32653061  6.53061224  6.73469388  6.93877551  7.14285714\n",
      "  7.34693878  7.55102041  7.75510204  7.95918367  8.16326531  8.36734694\n",
      "  8.57142857  8.7755102   8.97959184  9.18367347  9.3877551   9.59183673\n",
      "  9.79591837 10.        ]\n",
      "[ 0.          0.20266794  0.39692415  0.57470604  0.72863478  0.85232157\n",
      "  0.94063279  0.98990308  0.99808748  0.96484631  0.89155923  0.78126802\n",
      "  0.63855032  0.46932961  0.2806294   0.08028167 -0.12339814 -0.32195632\n",
      " -0.50715171 -0.67129779 -0.80758169 -0.91034694 -0.97532829 -0.99982867\n",
      " -0.9828312  -0.92504137 -0.82885774 -0.6982724  -0.53870529 -0.35677924\n",
      " -0.16004509  0.04333173  0.24491007  0.43632343  0.6096272   0.75762842\n",
      "  0.8741843   0.9544572   0.99511539  0.99447137  0.95255185  0.8710967\n",
      "  0.75348673  0.60460332  0.43062587  0.23877532  0.0370144  -0.16628279\n",
      " -0.36267843 -0.54402111]\n",
      "[ 1.          0.97924752  0.91785141  0.81835992  0.68490244  0.52301811\n",
      "  0.33942593  0.1417459  -0.0618173  -0.26281476 -0.45290412 -0.6241957\n",
      " -0.76958007 -0.88302305 -0.9598162  -0.99677222 -0.99235724 -0.94675453\n",
      " -0.8618568  -0.74118774 -0.58975572 -0.41384591 -0.22075945 -0.01851037\n",
      "  0.18450698  0.37986637  0.55945943  0.71583215  0.84249428  0.93418872\n",
      "  0.98710971  0.99906074  0.9695458   0.8997899   0.79268826  0.65268613\n",
      "  0.48559429  0.29834787  0.09871854 -0.10500809 -0.30437638 -0.49111153\n",
      " -0.65746312 -0.79652673 -0.90253053 -0.97107484 -0.99931473 -0.98607811\n",
      " -0.93191435 -0.83907153]\n"
     ]
    }
   ],
   "source": [
    "# Zugriff auf die Library via \"Punkt-Annotation\"\n",
    "## 1) Numpy library für die Erstellung von drei Variablen mit Beispiel Daten\n",
    "x = np.linspace(0,10) \n",
    "y = np.sin(x)\n",
    "z = np.cos(x)\n",
    "\n",
    "print(x)\n",
    "print(y)\n",
    "print(z)"
   ]
  },
  {
   "cell_type": "code",
   "execution_count": 14,
   "metadata": {
    "ExecuteTime": {
     "start_time": "2023-11-09T15:28:09.539333300Z"
    }
   },
   "outputs": [
    {
     "data": {
      "image/png": "[encoded data removed]",
      "text/plain": [
       "<Figure size 640x480 with 1 Axes>"
      ]
     },
     "metadata": {},
     "output_type": "display_data"
    }
   ],
   "source": [
    "## 2) Matplotlib library für die Visualisierung der Datenreihen\n",
    "plt.plot(x,y,'b',x,z,'r')\n",
    "plt.xlabel('Radianten');\n",
    "plt.ylabel('Wert');\n",
    "plt.title('Visualiserung')\n",
    "plt.legend(['Sin','Cos'])\n",
    "plt.grid()"
   ]
  },
  {
   "cell_type": "markdown",
   "metadata": {},
   "source": [
    "# 1.4 Coding Challenge"
   ]
  },
  {
   "cell_type": "markdown",
   "metadata": {
    "collapsed": false,
    "jupyter": {
     "outputs_hidden": false
    }
   },
   "source": [
    "## FizzBuzz\n",
    "**Was ist Fizz Buzz?**\n",
    "'Fizz Buzz' ist ein einfaches Programm, das die String-Darstellung von Zahlen von 1 bis n ausgibt. Dabei werden jedoch Vielfache von 3 durch 'Fizz', Vielfache von 5 durch 'Buzz' und Vielfache von sowohl 3 als auch 5 durch 'FizzBuzz' ersetzt.\n",
    "\n",
    "**Können wir davon ausgehen, dass die Eingaben gültig sind?**\n",
    "Nein, wir können nicht davon ausgehen, dass die Eingaben immer gültig sind. Es ist immer eine gute Praxis, den Code so zu schreiben, dass er ungültige Eingaben korrekt behandelt.\n",
    "\n",
    "**Können wir davon ausgehen, dass dies in den Speicher passt?**\n",
    "Ja, für die meisten Anwendungen kann man davon ausgehen, dass die Ergebnisse dieses Programms in den Speicher passen."
   ]
  },
  {
   "cell_type": "code",
   "execution_count": 15,
   "metadata": {
    "ExecuteTime": {
     "end_time": "2023-11-09T21:55:11.643970400Z",
     "start_time": "2023-11-09T21:55:11.617006200Z"
    }
   },
   "outputs": [],
   "source": [
    "def fizz_buzz(num):\n",
    "    if num is None:\n",
    "        raise TypeError('num cannot be None')\n",
    "    if num < 1:\n",
    "        raise ValueError('num cannot be less than one')\n",
    "    results = []\n",
    "    for i in range(1, REPLACE_ME):\n",
    "        if i % 3 == 0 and i % 5 == 0:\n",
    "            REPLACE_ME\n",
    "        elif REPLACE_ME:\n",
    "            REPLACE_ME\n",
    "        elif REPLACE_ME:\n",
    "            REPLACE_ME\n",
    "        else:\n",
    "            results.append(str(i))\n",
    "    return results"
   ]
  },
  {
   "cell_type": "code",
   "execution_count": 16,
   "metadata": {
    "ExecuteTime": {
     "end_time": "2023-11-09T21:48:07.284301300Z",
     "start_time": "2023-11-09T21:48:07.230520500Z"
    },
    "collapsed": false,
    "jupyter": {
     "outputs_hidden": false
    }
   },
   "outputs": [
    {
     "ename": "NameError",
     "evalue": "name 'REPLACE_ME' is not defined",
     "output_type": "error",
     "traceback": [
      "\u001b[0;31m---------------------------------------------------------------------------\u001b[0m",
      "\u001b[0;31mNameError\u001b[0m                                 Traceback (most recent call last)",
      "Cell \u001b[0;32mIn[16], line 1\u001b[0m\n\u001b[0;32m----> 1\u001b[0m \u001b[43mfizz_buzz\u001b[49m\u001b[43m(\u001b[49m\u001b[38;5;241;43m15\u001b[39;49m\u001b[43m)\u001b[49m\n",
      "Cell \u001b[0;32mIn[15], line 7\u001b[0m, in \u001b[0;36mfizz_buzz\u001b[0;34m(num)\u001b[0m\n\u001b[1;32m      5\u001b[0m     \u001b[38;5;28;01mraise\u001b[39;00m \u001b[38;5;167;01mValueError\u001b[39;00m(\u001b[38;5;124m'\u001b[39m\u001b[38;5;124mnum cannot be less than one\u001b[39m\u001b[38;5;124m'\u001b[39m)\n\u001b[1;32m      6\u001b[0m results \u001b[38;5;241m=\u001b[39m []\n\u001b[0;32m----> 7\u001b[0m \u001b[38;5;28;01mfor\u001b[39;00m i \u001b[38;5;129;01min\u001b[39;00m \u001b[38;5;28mrange\u001b[39m(\u001b[38;5;241m1\u001b[39m, \u001b[43mREPLACE_ME\u001b[49m):\n\u001b[1;32m      8\u001b[0m     \u001b[38;5;28;01mif\u001b[39;00m i \u001b[38;5;241m%\u001b[39m \u001b[38;5;241m3\u001b[39m \u001b[38;5;241m==\u001b[39m \u001b[38;5;241m0\u001b[39m \u001b[38;5;129;01mand\u001b[39;00m i \u001b[38;5;241m%\u001b[39m \u001b[38;5;241m5\u001b[39m \u001b[38;5;241m==\u001b[39m \u001b[38;5;241m0\u001b[39m:\n\u001b[1;32m      9\u001b[0m         REPLACE_ME\n",
      "\u001b[0;31mNameError\u001b[0m: name 'REPLACE_ME' is not defined"
     ]
    }
   ],
   "source": [
    "fizz_buzz(15)"
   ]
  },
  {
   "cell_type": "code",
   "execution_count": null,
   "metadata": {
    "ExecuteTime": {
     "end_time": "2023-11-09T21:49:03.667946900Z",
     "start_time": "2023-11-09T21:49:03.648950500Z"
    },
    "collapsed": false,
    "jupyter": {
     "outputs_hidden": false
    }
   },
   "outputs": [],
   "source": [
    "import unittest\n",
    "\n",
    "\n",
    "class TestFizzBuzz(unittest.TestCase):\n",
    "\n",
    "    def test_fizz_buzz(self):\n",
    "        self.assertRaises(TypeError, fizz_buzz, None)\n",
    "        self.assertRaises(ValueError, fizz_buzz, 0)\n",
    "        expected = [\n",
    "            '1',\n",
    "            '2',\n",
    "            'Fizz',\n",
    "            '4',\n",
    "            'Buzz',\n",
    "            'Fizz',\n",
    "            '7',\n",
    "            '8',\n",
    "            'Fizz',\n",
    "            'Buzz',\n",
    "            '11',\n",
    "            'Fizz',\n",
    "            '13',\n",
    "            '14',\n",
    "            'FizzBuzz'\n",
    "        ]\n",
    "        self.assertEqual(fizz_buzz(15), expected)\n",
    "        print('Success: test_fizz_buzz')"
   ]
  },
  {
   "cell_type": "code",
   "execution_count": null,
   "metadata": {
    "ExecuteTime": {
     "end_time": "2023-11-09T21:55:15.775419Z",
     "start_time": "2023-11-09T21:55:15.736426600Z"
    },
    "collapsed": false,
    "jupyter": {
     "outputs_hidden": false
    }
   },
   "outputs": [],
   "source": [
    "test = TestFizzBuzz()\n",
    "test.test_fizz_buzz()"
   ]
  }
 ],
 "metadata": {
  "kernelspec": {
   "display_name": "Python 3 (ipykernel)",
   "language": "python",
   "name": "python3"
  },
  "language_info": {
   "codemirror_mode": {
    "name": "ipython",
    "version": 3
   },
   "file_extension": ".py",
   "mimetype": "text/x-python",
   "name": "python",
   "nbconvert_exporter": "python",
   "pygments_lexer": "ipython3",
   "version": "3.10.10"
  }
 },
 "nbformat": 4,
 "nbformat_minor": 4
}

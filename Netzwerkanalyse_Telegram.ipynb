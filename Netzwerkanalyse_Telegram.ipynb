{
 "cells": [
  {
   "attachments": {},
   "cell_type": "markdown",
   "metadata": {},
   "source": [
    "# Eure Netzwerkanalyse auf Basis von Telegram-Daten"
   ]
  },
  {
   "attachments": {},
   "cell_type": "markdown",
   "metadata": {},
   "source": [
    "Wir importieren die Libraries, die wir für die Netzwerkanalyse benötigen. <br>\n",
    "<i>Zur Erinnerung: Mit der Nutzung von Libraries sparen wir uns Programmieraufwand, weil wir bereits fertige Komponenten nutzen können.</i>"
   ]
  },
  {
   "cell_type": "code",
   "execution_count": 1,
   "metadata": {},
   "outputs": [],
   "source": [
    "import pandas as pd # eine Library, die uns dabei hilft Daten vorzubereiten\n",
    "import networkx as nx # eine Library, die auf Netzwerkanalyse spezialisiert ist\n",
    "import openpyxl # eine Library, die mit Excel-Dateien umgehen kann\n",
    "import matplotlib # eine Library, die auf Visualisierungen spezialisiert ist\n",
    "import scipy"
   ]
  },
  {
   "attachments": {},
   "cell_type": "markdown",
   "metadata": {},
   "source": [
    "Wir beginnen außerhalb vom Jupyter Notebook. Bitte exportiert Euren csv-File aus dem Telegram Monitoring. <br> <br>\n",
    "Im nächsten Schritt importieren wir Euren csv-File. "
   ]
  },
  {
   "cell_type": "code",
   "execution_count": 2,
   "metadata": {},
   "outputs": [],
   "source": [
    "file_name='Armenien_Telegram.csv'\n",
    "df = pd.read_csv(file_name,sep=\";\")"
   ]
  },
  {
   "attachments": {},
   "cell_type": "markdown",
   "metadata": {},
   "source": [
    "Jetzt schauen wir uns die ersten 5 Zeilen der importierten Daten an:"
   ]
  },
  {
   "cell_type": "code",
   "execution_count": null,
   "metadata": {},
   "outputs": [],
   "source": [
    "df.head()"
   ]
  },
  {
   "cell_type": "markdown",
   "metadata": {},
   "source": [
    "Aber wie groß ist das Dataset? Wie viele Zeilen? Wie viele Spalten?"
   ]
  },
  {
   "cell_type": "code",
   "execution_count": null,
   "metadata": {},
   "outputs": [],
   "source": [
    "df.shape"
   ]
  },
  {
   "cell_type": "markdown",
   "metadata": {},
   "source": [
    "Wie kommen wir jetzt zu einer Kantenliste? Wir erinnern uns, dass eine Kantenliste wie folgt aufgebaut ist: <br>\n",
    "| Knoten 1 | Knoten 2 | Attribut |\n",
    "|----------|----------|----------|\n",
    "| Knoten X  | Knoten Y  | Eigenschaft der Verbindung  |\n",
    "| Knoten X  | Knoten Z  | Eigenschaft der Verbindung |\n",
    "| Knoten Y  | Knoten Z  | Eigenschaft der Verbindung |"
   ]
  },
  {
   "cell_type": "markdown",
   "metadata": {},
   "source": [
    "Wie kriegen wir unser Dataframe in diese Form? Zunächst müssen wir die Knoten identifizieren.<br>\n",
    "Wir werden uns heute auf Verbindungen (=Kanten) konzentrieren, die durch die Weiterleitung von Nachrichten entstanden sind.<br><br>Bedeutet:<br>Eine weitergeleitete Nachricht stellt eine Kante dar. <br>Der Kanal, in dem die Nachricht weitergeleitet wurde, + der Kanal, aus dem eine Nachricht weitergeleitet wurde, stellen die Knoten dar."
   ]
  },
  {
   "cell_type": "markdown",
   "metadata": {},
   "source": [
    "Lasst uns nochmal die ersten 5 Zeilen unseres Datasets anschauen, um zu überlegen wie weit wir von einer Kantenliste weg sind?"
   ]
  },
  {
   "cell_type": "code",
   "execution_count": null,
   "metadata": {},
   "outputs": [],
   "source": [
    "# Weißt du noch wie? Sonst kannst du oben spicken"
   ]
  },
  {
   "cell_type": "markdown",
   "metadata": {},
   "source": [
    "Wir stellen fest, dass der Export aus dem Telegram Monitoring einer Kantenliste schon ziemlich ähnlich sieht:<br>\n",
    "* Eine Zeile je Nachricht - sprich eine Zeile je Kante --> das passt schon mal! Aber es wurde ja nicht jede Nachricht weitergeleitet? Diese Nachrichten müssen wir bereinigen.\n",
    "* Die Spalte <i>channel_name</i> stellt den ersten Knoten dar - nämlich den Kanal der die Nachricht weiterleitet.\n",
    "* Zu dem 2. Knoten, dem Kanal aus dem die Nachricht weitergeleitet wurde, haben wir nur eine ID: <i>forward_channel_id</i>"
   ]
  },
  {
   "cell_type": "markdown",
   "metadata": {},
   "source": [
    "Als erstes bereinigen wir das Dataframe, um die nicht weitergeleiteten Nachrichten.\n"
   ]
  },
  {
   "cell_type": "code",
   "execution_count": 3,
   "metadata": {},
   "outputs": [],
   "source": [
    "df_forwards=df.dropna(subset=['forward_channel_id']) #die Methode \"droppt\" alle Zeieln mit einer leeren forward_channel_id"
   ]
  },
  {
   "cell_type": "markdown",
   "metadata": {},
   "source": [
    "Um unser Netzwerk nachher schön darzustellen wäre auch der Name zum 2. Knoten wichtig. Glücklicherweise steht ein 2. csv-file parat, der uns dabei helfen wird den Kanal-Namen zur ID zuzuordnen. Diesen File importieren wird:"
   ]
  },
  {
   "cell_type": "code",
   "execution_count": 4,
   "metadata": {},
   "outputs": [],
   "source": [
    "file_name2='telegram_channels.csv'\n",
    "#weißt du noch, wie wir einen csv-file importieren können? Bitte nenne das Dataframe \"df_channels\""
   ]
  },
  {
   "cell_type": "code",
   "execution_count": 5,
   "metadata": {},
   "outputs": [],
   "source": [
    "df_channels = pd.read_csv(file_name2)"
   ]
  },
  {
   "cell_type": "code",
   "execution_count": null,
   "metadata": {},
   "outputs": [],
   "source": [
    "df_channels.head()"
   ]
  },
  {
   "cell_type": "markdown",
   "metadata": {},
   "source": [
    "Das verbinden von 2 Tabellen wird in der Regel als Join bezeichnet. <br>Die <i>telegram_id</i> entspricht der <i>forward_channel_id</i>. Die <i>description</i> entspricht dem <i>channel_name</i>.<br><br>\n",
    "\n",
    "Wir müssen also die beiden Dataframes mithilfe der ids joinen, um die Kantenliste um die <i>description</i> zu erweitern. <br> Wir nutzen die Gelegenheit und benennen das Dataframe zur \"Kantenliste\" um. "
   ]
  },
  {
   "cell_type": "code",
   "execution_count": 6,
   "metadata": {},
   "outputs": [],
   "source": [
    "kantenliste=pd.merge(df_forwards, df_channels, left_on='forward_channel_id', right_on='telegram_id', how='inner')"
   ]
  },
  {
   "cell_type": "markdown",
   "metadata": {},
   "source": [
    "Wie groß ist unsere Kantenliste nun?"
   ]
  },
  {
   "cell_type": "code",
   "execution_count": null,
   "metadata": {},
   "outputs": [],
   "source": [
    "kantenliste.shape"
   ]
  },
  {
   "cell_type": "markdown",
   "metadata": {},
   "source": [
    "Den ganz Aufmerksamen könnte jetzt auffallen, dass wir einige Nachrichten verloren haben - die Nachrichten, die aus nicht deutschsprachigen Kanälen weitergeleitet wurden, die wir nicht ins Crawling mit aufnehmen.<br><br>Für unsere benötigen wir selbstverständlich keine 22 Spalten. In der folgenden Liste, kannst du definieren, welche Spalten du mit in die Netzwerkanalyse nehmen möchtest. Im nächsten Schritt werden wir dann die Kantenliste auf erwähnten Spalten begrenzen."
   ]
  },
  {
   "cell_type": "code",
   "execution_count": null,
   "metadata": {},
   "outputs": [],
   "source": [
    "spalten=[\"channel_name\"]\n",
    "# Der channel_name reicht noch nicht. Ergänze die weiteren Spalten mit einem Komma getrennt. "
   ]
  },
  {
   "cell_type": "code",
   "execution_count": 7,
   "metadata": {},
   "outputs": [],
   "source": [
    "spalten=[\"channel_name\",\"description\"]"
   ]
  },
  {
   "cell_type": "markdown",
   "metadata": {},
   "source": [
    "Jetzt begrenzen wir die Kantenliste auf die gewählten Spalten."
   ]
  },
  {
   "cell_type": "code",
   "execution_count": 8,
   "metadata": {},
   "outputs": [
    {
     "data": {
      "text/html": [
       "<div>\n",
       "<style scoped>\n",
       "    .dataframe tbody tr th:only-of-type {\n",
       "        vertical-align: middle;\n",
       "    }\n",
       "\n",
       "    .dataframe tbody tr th {\n",
       "        vertical-align: top;\n",
       "    }\n",
       "\n",
       "    .dataframe thead th {\n",
       "        text-align: right;\n",
       "    }\n",
       "</style>\n",
       "<table border=\"1\" class=\"dataframe\">\n",
       "  <thead>\n",
       "    <tr style=\"text-align: right;\">\n",
       "      <th></th>\n",
       "      <th>channel_name</th>\n",
       "      <th>description</th>\n",
       "    </tr>\n",
       "  </thead>\n",
       "  <tbody>\n",
       "    <tr>\n",
       "      <th>0</th>\n",
       "      <td>FSN - The Revolution</td>\n",
       "      <td>🔰 Militär-News</td>\n",
       "    </tr>\n",
       "    <tr>\n",
       "      <th>1</th>\n",
       "      <td>Q COLOGNE 🕊🔊</td>\n",
       "      <td>🔰 Militär-News</td>\n",
       "    </tr>\n",
       "    <tr>\n",
       "      <th>2</th>\n",
       "      <td>Q COLOGNE 🕊🔊</td>\n",
       "      <td>🔰 Militär-News</td>\n",
       "    </tr>\n",
       "    <tr>\n",
       "      <th>3</th>\n",
       "      <td>Vivoterra</td>\n",
       "      <td>🔰 Militär-News</td>\n",
       "    </tr>\n",
       "    <tr>\n",
       "      <th>4</th>\n",
       "      <td>Frieden Wahrheit Freiheit Wollen Wir 🕊 ❤️</td>\n",
       "      <td>🔰 Militär-News</td>\n",
       "    </tr>\n",
       "  </tbody>\n",
       "</table>\n",
       "</div>"
      ],
      "text/plain": [
       "                                channel_name     description\n",
       "0                       FSN - The Revolution  🔰 Militär-News\n",
       "1                               Q COLOGNE 🕊🔊  🔰 Militär-News\n",
       "2                               Q COLOGNE 🕊🔊  🔰 Militär-News\n",
       "3                                  Vivoterra  🔰 Militär-News\n",
       "4  Frieden Wahrheit Freiheit Wollen Wir 🕊 ❤️  🔰 Militär-News"
      ]
     },
     "execution_count": 8,
     "metadata": {},
     "output_type": "execute_result"
    }
   ],
   "source": [
    "kantenliste=kantenliste[spalten]\n",
    "kantenliste.head()"
   ]
  },
  {
   "attachments": {},
   "cell_type": "markdown",
   "metadata": {},
   "source": [
    "Jetzt erzeugen wir mithilfe unserer Kantenliste einen Graph namens \"G\". Ein Graph ist noch nicht die Visualisierung selbst, beinhaltet bereits aber diverse Informationen, die für die Visualisierung notwendig sind."
   ]
  },
  {
   "cell_type": "code",
   "execution_count": 15,
   "metadata": {},
   "outputs": [],
   "source": [
    "G = nx.from_pandas_edgelist(kantenliste[0:1000], source='description', target='channel_name')"
   ]
  },
  {
   "attachments": {},
   "cell_type": "markdown",
   "metadata": {},
   "source": [
    "Jetzt wählen wir ein Layout, das für die Visualisierung noch einen notwendigen Parameter darstellt. Das Spring-Layout ist ein guter Start.<br><br>\n",
    "Wer später nochmal mit anderen Layouts experimentieren möchte, hier ein Link zur Doku: <br>\n",
    "https://networkx.org/documentation/stable/reference/drawing.html"
   ]
  },
  {
   "cell_type": "code",
   "execution_count": 10,
   "metadata": {},
   "outputs": [
    {
     "name": "stdout",
     "output_type": "stream",
     "text": [
      "networkx version: 3.2.1\n",
      "scipy version: 1.8.1\n"
     ]
    }
   ],
   "source": [
    "print(\"networkx version:\", nx.__version__)\n",
    "print(\"scipy version:\", scipy.__version__)"
   ]
  },
  {
   "cell_type": "code",
   "execution_count": 16,
   "metadata": {},
   "outputs": [],
   "source": [
    "pos = nx.spring_layout(G)"
   ]
  },
  {
   "attachments": {},
   "cell_type": "markdown",
   "metadata": {},
   "source": [
    "Im nächsten Schritt erstellen wir die Visualisierung. Die erste Zeile erzeugt die Knoten und die zweite Zeile die Kanten."
   ]
  },
  {
   "cell_type": "code",
   "execution_count": 18,
   "metadata": {},
   "outputs": [
    {
     "data": {
      "text/plain": [
       "<matplotlib.collections.LineCollection at 0x7f3949ed86a0>"
      ]
     },
     "execution_count": 18,
     "metadata": {},
     "output_type": "execute_result"
    },
    {
     "name": "stderr",
     "output_type": "stream",
     "text": [
      "/home/matitz90/miniconda3/envs/d4t/lib/python3.10/site-packages/IPython/core/pylabtools.py:151: UserWarning: Glyph 128304 (\\N{JAPANESE SYMBOL FOR BEGINNER}) missing from current font.\n",
      "  fig.canvas.print_figure(bytes_io, **kw)\n",
      "/home/matitz90/miniconda3/envs/d4t/lib/python3.10/site-packages/IPython/core/pylabtools.py:151: UserWarning: Glyph 128330 (\\N{DOVE OF PEACE}) missing from current font.\n",
      "  fig.canvas.print_figure(bytes_io, **kw)\n",
      "/home/matitz90/miniconda3/envs/d4t/lib/python3.10/site-packages/IPython/core/pylabtools.py:151: UserWarning: Glyph 128266 (\\N{SPEAKER WITH THREE SOUND WAVES}) missing from current font.\n",
      "  fig.canvas.print_figure(bytes_io, **kw)\n",
      "/home/matitz90/miniconda3/envs/d4t/lib/python3.10/site-packages/IPython/core/pylabtools.py:151: UserWarning: Glyph 10024 (\\N{SPARKLES}) missing from current font.\n",
      "  fig.canvas.print_figure(bytes_io, **kw)\n",
      "/home/matitz90/miniconda3/envs/d4t/lib/python3.10/site-packages/IPython/core/pylabtools.py:151: UserWarning: Glyph 127756 (\\N{MILKY WAY}) missing from current font.\n",
      "  fig.canvas.print_figure(bytes_io, **kw)\n",
      "/home/matitz90/miniconda3/envs/d4t/lib/python3.10/site-packages/IPython/core/pylabtools.py:151: UserWarning: Glyph 127759 (\\N{EARTH GLOBE ASIA-AUSTRALIA}) missing from current font.\n",
      "  fig.canvas.print_figure(bytes_io, **kw)\n",
      "/home/matitz90/miniconda3/envs/d4t/lib/python3.10/site-packages/IPython/core/pylabtools.py:151: UserWarning: Glyph 128680 (\\N{POLICE CARS REVOLVING LIGHT}) missing from current font.\n",
      "  fig.canvas.print_figure(bytes_io, **kw)\n",
      "/home/matitz90/miniconda3/envs/d4t/lib/python3.10/site-packages/IPython/core/pylabtools.py:151: UserWarning: Glyph 127481 (\\N{REGIONAL INDICATOR SYMBOL LETTER T}) missing from current font.\n",
      "  fig.canvas.print_figure(bytes_io, **kw)\n",
      "/home/matitz90/miniconda3/envs/d4t/lib/python3.10/site-packages/IPython/core/pylabtools.py:151: UserWarning: Glyph 127479 (\\N{REGIONAL INDICATOR SYMBOL LETTER R}) missing from current font.\n",
      "  fig.canvas.print_figure(bytes_io, **kw)\n",
      "/home/matitz90/miniconda3/envs/d4t/lib/python3.10/site-packages/IPython/core/pylabtools.py:151: UserWarning: Glyph 127465 (\\N{REGIONAL INDICATOR SYMBOL LETTER D}) missing from current font.\n",
      "  fig.canvas.print_figure(bytes_io, **kw)\n",
      "/home/matitz90/miniconda3/envs/d4t/lib/python3.10/site-packages/IPython/core/pylabtools.py:151: UserWarning: Glyph 127466 (\\N{REGIONAL INDICATOR SYMBOL LETTER E}) missing from current font.\n",
      "  fig.canvas.print_figure(bytes_io, **kw)\n",
      "/home/matitz90/miniconda3/envs/d4t/lib/python3.10/site-packages/IPython/core/pylabtools.py:151: UserWarning: Glyph 127482 (\\N{REGIONAL INDICATOR SYMBOL LETTER U}) missing from current font.\n",
      "  fig.canvas.print_figure(bytes_io, **kw)\n",
      "/home/matitz90/miniconda3/envs/d4t/lib/python3.10/site-packages/IPython/core/pylabtools.py:151: UserWarning: Glyph 127462 (\\N{REGIONAL INDICATOR SYMBOL LETTER A}) missing from current font.\n",
      "  fig.canvas.print_figure(bytes_io, **kw)\n",
      "/home/matitz90/miniconda3/envs/d4t/lib/python3.10/site-packages/IPython/core/pylabtools.py:151: UserWarning: Glyph 128060 (\\N{PANDA FACE}) missing from current font.\n",
      "  fig.canvas.print_figure(bytes_io, **kw)\n",
      "/home/matitz90/miniconda3/envs/d4t/lib/python3.10/site-packages/IPython/core/pylabtools.py:151: UserWarning: Glyph 129322 (\\N{GRINNING FACE WITH ONE LARGE AND ONE SMALL EYE}) missing from current font.\n",
      "  fig.canvas.print_figure(bytes_io, **kw)\n",
      "/home/matitz90/miniconda3/envs/d4t/lib/python3.10/site-packages/IPython/core/pylabtools.py:151: UserWarning: Glyph 127757 (\\N{EARTH GLOBE EUROPE-AFRICA}) missing from current font.\n",
      "  fig.canvas.print_figure(bytes_io, **kw)\n",
      "/home/matitz90/miniconda3/envs/d4t/lib/python3.10/site-packages/IPython/core/pylabtools.py:151: UserWarning: Glyph 127464 (\\N{REGIONAL INDICATOR SYMBOL LETTER C}) missing from current font.\n",
      "  fig.canvas.print_figure(bytes_io, **kw)\n",
      "/home/matitz90/miniconda3/envs/d4t/lib/python3.10/site-packages/IPython/core/pylabtools.py:151: UserWarning: Glyph 127469 (\\N{REGIONAL INDICATOR SYMBOL LETTER H}) missing from current font.\n",
      "  fig.canvas.print_figure(bytes_io, **kw)\n",
      "/home/matitz90/miniconda3/envs/d4t/lib/python3.10/site-packages/IPython/core/pylabtools.py:151: UserWarning: Glyph 127473 (\\N{REGIONAL INDICATOR SYMBOL LETTER L}) missing from current font.\n",
      "  fig.canvas.print_figure(bytes_io, **kw)\n",
      "/home/matitz90/miniconda3/envs/d4t/lib/python3.10/site-packages/IPython/core/pylabtools.py:151: UserWarning: Glyph 127470 (\\N{REGIONAL INDICATOR SYMBOL LETTER I}) missing from current font.\n",
      "  fig.canvas.print_figure(bytes_io, **kw)\n",
      "/home/matitz90/miniconda3/envs/d4t/lib/python3.10/site-packages/IPython/core/pylabtools.py:151: UserWarning: Glyph 127477 (\\N{REGIONAL INDICATOR SYMBOL LETTER P}) missing from current font.\n",
      "  fig.canvas.print_figure(bytes_io, **kw)\n",
      "/home/matitz90/miniconda3/envs/d4t/lib/python3.10/site-packages/IPython/core/pylabtools.py:151: UserWarning: Glyph 128760 (\\N{FLYING SAUCER}) missing from current font.\n",
      "  fig.canvas.print_figure(bytes_io, **kw)\n",
      "/home/matitz90/miniconda3/envs/d4t/lib/python3.10/site-packages/IPython/core/pylabtools.py:151: UserWarning: Glyph 128591 (\\N{PERSON WITH FOLDED HANDS}) missing from current font.\n",
      "  fig.canvas.print_figure(bytes_io, **kw)\n",
      "/home/matitz90/miniconda3/envs/d4t/lib/python3.10/site-packages/IPython/core/pylabtools.py:151: UserWarning: Glyph 128149 (\\N{TWO HEARTS}) missing from current font.\n",
      "  fig.canvas.print_figure(bytes_io, **kw)\n",
      "/home/matitz90/miniconda3/envs/d4t/lib/python3.10/site-packages/IPython/core/pylabtools.py:151: UserWarning: Glyph 119937 (\\N{MATHEMATICAL BOLD ITALIC CAPITAL Z}) missing from current font.\n",
      "  fig.canvas.print_figure(bytes_io, **kw)\n",
      "/home/matitz90/miniconda3/envs/d4t/lib/python3.10/site-packages/IPython/core/pylabtools.py:151: UserWarning: Glyph 119938 (\\N{MATHEMATICAL BOLD ITALIC SMALL A}) missing from current font.\n",
      "  fig.canvas.print_figure(bytes_io, **kw)\n",
      "/home/matitz90/miniconda3/envs/d4t/lib/python3.10/site-packages/IPython/core/pylabtools.py:151: UserWarning: Glyph 119958 (\\N{MATHEMATICAL BOLD ITALIC SMALL U}) missing from current font.\n",
      "  fig.canvas.print_figure(bytes_io, **kw)\n",
      "/home/matitz90/miniconda3/envs/d4t/lib/python3.10/site-packages/IPython/core/pylabtools.py:151: UserWarning: Glyph 119939 (\\N{MATHEMATICAL BOLD ITALIC SMALL B}) missing from current font.\n",
      "  fig.canvas.print_figure(bytes_io, **kw)\n",
      "/home/matitz90/miniconda3/envs/d4t/lib/python3.10/site-packages/IPython/core/pylabtools.py:151: UserWarning: Glyph 119942 (\\N{MATHEMATICAL BOLD ITALIC SMALL E}) missing from current font.\n",
      "  fig.canvas.print_figure(bytes_io, **kw)\n",
      "/home/matitz90/miniconda3/envs/d4t/lib/python3.10/site-packages/IPython/core/pylabtools.py:151: UserWarning: Glyph 119955 (\\N{MATHEMATICAL BOLD ITALIC SMALL R}) missing from current font.\n",
      "  fig.canvas.print_figure(bytes_io, **kw)\n",
      "/home/matitz90/miniconda3/envs/d4t/lib/python3.10/site-packages/IPython/core/pylabtools.py:151: UserWarning: Glyph 119960 (\\N{MATHEMATICAL BOLD ITALIC SMALL W}) missing from current font.\n",
      "  fig.canvas.print_figure(bytes_io, **kw)\n",
      "/home/matitz90/miniconda3/envs/d4t/lib/python3.10/site-packages/IPython/core/pylabtools.py:151: UserWarning: Glyph 119945 (\\N{MATHEMATICAL BOLD ITALIC SMALL H}) missing from current font.\n",
      "  fig.canvas.print_figure(bytes_io, **kw)\n",
      "/home/matitz90/miniconda3/envs/d4t/lib/python3.10/site-packages/IPython/core/pylabtools.py:151: UserWarning: Glyph 119946 (\\N{MATHEMATICAL BOLD ITALIC SMALL I}) missing from current font.\n",
      "  fig.canvas.print_figure(bytes_io, **kw)\n",
      "/home/matitz90/miniconda3/envs/d4t/lib/python3.10/site-packages/IPython/core/pylabtools.py:151: UserWarning: Glyph 119957 (\\N{MATHEMATICAL BOLD ITALIC SMALL T}) missing from current font.\n",
      "  fig.canvas.print_figure(bytes_io, **kw)\n",
      "/home/matitz90/miniconda3/envs/d4t/lib/python3.10/site-packages/IPython/core/pylabtools.py:151: UserWarning: Glyph 8419 (\\N{COMBINING ENCLOSING KEYCAP}) missing from current font.\n",
      "  fig.canvas.print_figure(bytes_io, **kw)\n",
      "/home/matitz90/miniconda3/envs/d4t/lib/python3.10/site-packages/IPython/core/pylabtools.py:151: UserWarning: Glyph 128165 (\\N{COLLISION SYMBOL}) missing from current font.\n",
      "  fig.canvas.print_figure(bytes_io, **kw)\n",
      "/home/matitz90/miniconda3/envs/d4t/lib/python3.10/site-packages/IPython/core/pylabtools.py:151: UserWarning: Glyph 127807 (\\N{HERB}) missing from current font.\n",
      "  fig.canvas.print_figure(bytes_io, **kw)\n",
      "/home/matitz90/miniconda3/envs/d4t/lib/python3.10/site-packages/IPython/core/pylabtools.py:151: UserWarning: Glyph 127800 (\\N{CHERRY BLOSSOM}) missing from current font.\n",
      "  fig.canvas.print_figure(bytes_io, **kw)\n",
      "/home/matitz90/miniconda3/envs/d4t/lib/python3.10/site-packages/IPython/core/pylabtools.py:151: UserWarning: Glyph 5094 (\\N{CHEROKEE LETTER TSO}) missing from current font.\n",
      "  fig.canvas.print_figure(bytes_io, **kw)\n",
      "/home/matitz90/miniconda3/envs/d4t/lib/python3.10/site-packages/IPython/core/pylabtools.py:151: UserWarning: Glyph 5039 (\\N{CHEROKEE LETTER HI}) missing from current font.\n",
      "  fig.canvas.print_figure(bytes_io, **kw)\n",
      "/home/matitz90/miniconda3/envs/d4t/lib/python3.10/site-packages/IPython/core/pylabtools.py:151: UserWarning: Glyph 5046 (\\N{CHEROKEE LETTER LO}) missing from current font.\n",
      "  fig.canvas.print_figure(bytes_io, **kw)\n",
      "/home/matitz90/miniconda3/envs/d4t/lib/python3.10/site-packages/IPython/core/pylabtools.py:151: UserWarning: Glyph 10060 (\\N{CROSS MARK}) missing from current font.\n",
      "  fig.canvas.print_figure(bytes_io, **kw)\n",
      "/home/matitz90/miniconda3/envs/d4t/lib/python3.10/site-packages/IPython/core/pylabtools.py:151: UserWarning: Glyph 127808 (\\N{FOUR LEAF CLOVER}) missing from current font.\n",
      "  fig.canvas.print_figure(bytes_io, **kw)\n",
      "/home/matitz90/miniconda3/envs/d4t/lib/python3.10/site-packages/IPython/core/pylabtools.py:151: UserWarning: Glyph 127818 (\\N{TANGERINE}) missing from current font.\n",
      "  fig.canvas.print_figure(bytes_io, **kw)\n",
      "/home/matitz90/miniconda3/envs/d4t/lib/python3.10/site-packages/IPython/core/pylabtools.py:151: UserWarning: Glyph 128091 (\\N{PURSE}) missing from current font.\n",
      "  fig.canvas.print_figure(bytes_io, **kw)\n",
      "/home/matitz90/miniconda3/envs/d4t/lib/python3.10/site-packages/IPython/core/pylabtools.py:151: UserWarning: Glyph 128007 (\\N{RABBIT}) missing from current font.\n",
      "  fig.canvas.print_figure(bytes_io, **kw)\n",
      "/home/matitz90/miniconda3/envs/d4t/lib/python3.10/site-packages/IPython/core/pylabtools.py:151: UserWarning: Glyph 127480 (\\N{REGIONAL INDICATOR SYMBOL LETTER S}) missing from current font.\n",
      "  fig.canvas.print_figure(bytes_io, **kw)\n",
      "/home/matitz90/miniconda3/envs/d4t/lib/python3.10/site-packages/IPython/core/pylabtools.py:151: UserWarning: Glyph 129516 (\\N{DNA DOUBLE HELIX}) missing from current font.\n",
      "  fig.canvas.print_figure(bytes_io, **kw)\n",
      "/home/matitz90/miniconda3/envs/d4t/lib/python3.10/site-packages/IPython/core/pylabtools.py:151: UserWarning: Glyph 128077 (\\N{THUMBS UP SIGN}) missing from current font.\n",
      "  fig.canvas.print_figure(bytes_io, **kw)\n",
      "/home/matitz90/miniconda3/envs/d4t/lib/python3.10/site-packages/IPython/core/pylabtools.py:151: UserWarning: Glyph 128187 (\\N{PERSONAL COMPUTER}) missing from current font.\n",
      "  fig.canvas.print_figure(bytes_io, **kw)\n",
      "/home/matitz90/miniconda3/envs/d4t/lib/python3.10/site-packages/IPython/core/pylabtools.py:151: UserWarning: Glyph 128421 (\\N{DESKTOP COMPUTER}) missing from current font.\n",
      "  fig.canvas.print_figure(bytes_io, **kw)\n",
      "/home/matitz90/miniconda3/envs/d4t/lib/python3.10/site-packages/IPython/core/pylabtools.py:151: UserWarning: Glyph 127785 (\\N{CLOUD WITH LIGHTNING}) missing from current font.\n",
      "  fig.canvas.print_figure(bytes_io, **kw)\n",
      "/home/matitz90/miniconda3/envs/d4t/lib/python3.10/site-packages/IPython/core/pylabtools.py:151: UserWarning: Glyph 127786 (\\N{CLOUD WITH TORNADO}) missing from current font.\n",
      "  fig.canvas.print_figure(bytes_io, **kw)\n",
      "/home/matitz90/miniconda3/envs/d4t/lib/python3.10/site-packages/IPython/core/pylabtools.py:151: UserWarning: Glyph 128420 (\\N{BLACK HEART}) missing from current font.\n",
      "  fig.canvas.print_figure(bytes_io, **kw)\n",
      "/home/matitz90/miniconda3/envs/d4t/lib/python3.10/site-packages/IPython/core/pylabtools.py:151: UserWarning: Glyph 129293 (\\N{WHITE HEART}) missing from current font.\n",
      "  fig.canvas.print_figure(bytes_io, **kw)\n",
      "/home/matitz90/miniconda3/envs/d4t/lib/python3.10/site-packages/IPython/core/pylabtools.py:151: UserWarning: Glyph 11035 (\\N{BLACK LARGE SQUARE}) missing from current font.\n",
      "  fig.canvas.print_figure(bytes_io, **kw)\n",
      "/home/matitz90/miniconda3/envs/d4t/lib/python3.10/site-packages/IPython/core/pylabtools.py:151: UserWarning: Glyph 11036 (\\N{WHITE LARGE SQUARE}) missing from current font.\n",
      "  fig.canvas.print_figure(bytes_io, **kw)\n",
      "/home/matitz90/miniconda3/envs/d4t/lib/python3.10/site-packages/IPython/core/pylabtools.py:151: UserWarning: Glyph 128997 (\\N{LARGE RED SQUARE}) missing from current font.\n",
      "  fig.canvas.print_figure(bytes_io, **kw)\n",
      "/home/matitz90/miniconda3/envs/d4t/lib/python3.10/site-packages/IPython/core/pylabtools.py:151: UserWarning: Glyph 128142 (\\N{GEM STONE}) missing from current font.\n",
      "  fig.canvas.print_figure(bytes_io, **kw)\n",
      "/home/matitz90/miniconda3/envs/d4t/lib/python3.10/site-packages/IPython/core/pylabtools.py:151: UserWarning: Glyph 119877 (\\N{MATHEMATICAL ITALIC CAPITAL R}) missing from current font.\n",
      "  fig.canvas.print_figure(bytes_io, **kw)\n",
      "/home/matitz90/miniconda3/envs/d4t/lib/python3.10/site-packages/IPython/core/pylabtools.py:151: UserWarning: Glyph 119868 (\\N{MATHEMATICAL ITALIC CAPITAL I}) missing from current font.\n",
      "  fig.canvas.print_figure(bytes_io, **kw)\n",
      "/home/matitz90/miniconda3/envs/d4t/lib/python3.10/site-packages/IPython/core/pylabtools.py:151: UserWarning: Glyph 119864 (\\N{MATHEMATICAL ITALIC CAPITAL E}) missing from current font.\n",
      "  fig.canvas.print_figure(bytes_io, **kw)\n",
      "/home/matitz90/miniconda3/envs/d4t/lib/python3.10/site-packages/IPython/core/pylabtools.py:151: UserWarning: Glyph 119982 (\\N{MATHEMATICAL SCRIPT CAPITAL S}) missing from current font.\n",
      "  fig.canvas.print_figure(bytes_io, **kw)\n",
      "/home/matitz90/miniconda3/envs/d4t/lib/python3.10/site-packages/IPython/core/pylabtools.py:151: UserWarning: Glyph 119977 (\\N{MATHEMATICAL SCRIPT CAPITAL N}) missing from current font.\n",
      "  fig.canvas.print_figure(bytes_io, **kw)\n",
      "/home/matitz90/miniconda3/envs/d4t/lib/python3.10/site-packages/IPython/core/pylabtools.py:151: UserWarning: Glyph 120008 (\\N{MATHEMATICAL SCRIPT SMALL S}) missing from current font.\n",
      "  fig.canvas.print_figure(bytes_io, **kw)\n",
      "/home/matitz90/miniconda3/envs/d4t/lib/python3.10/site-packages/IPython/core/pylabtools.py:151: UserWarning: Glyph 127352 (\\N{NEGATIVE SQUARED LATIN CAPITAL LETTER I}) missing from current font.\n",
      "  fig.canvas.print_figure(bytes_io, **kw)\n",
      "/home/matitz90/miniconda3/envs/d4t/lib/python3.10/site-packages/IPython/core/pylabtools.py:151: UserWarning: Glyph 127357 (\\N{NEGATIVE SQUARED LATIN CAPITAL LETTER N}) missing from current font.\n",
      "  fig.canvas.print_figure(bytes_io, **kw)\n",
      "/home/matitz90/miniconda3/envs/d4t/lib/python3.10/site-packages/IPython/core/pylabtools.py:151: UserWarning: Glyph 127349 (\\N{NEGATIVE SQUARED LATIN CAPITAL LETTER F}) missing from current font.\n",
      "  fig.canvas.print_figure(bytes_io, **kw)\n",
      "/home/matitz90/miniconda3/envs/d4t/lib/python3.10/site-packages/IPython/core/pylabtools.py:151: UserWarning: Glyph 127358 (\\N{NEGATIVE SQUARED LATIN CAPITAL LETTER O}) missing from current font.\n",
      "  fig.canvas.print_figure(bytes_io, **kw)\n",
      "/home/matitz90/miniconda3/envs/d4t/lib/python3.10/site-packages/IPython/core/pylabtools.py:151: UserWarning: Glyph 128155 (\\N{YELLOW HEART}) missing from current font.\n",
      "  fig.canvas.print_figure(bytes_io, **kw)\n",
      "/home/matitz90/miniconda3/envs/d4t/lib/python3.10/site-packages/IPython/core/pylabtools.py:151: UserWarning: Glyph 128313 (\\N{SMALL BLUE DIAMOND}) missing from current font.\n",
      "  fig.canvas.print_figure(bytes_io, **kw)\n",
      "/home/matitz90/miniconda3/envs/d4t/lib/python3.10/site-packages/IPython/core/pylabtools.py:151: UserWarning: Glyph 129309 (\\N{HANDSHAKE}) missing from current font.\n",
      "  fig.canvas.print_figure(bytes_io, **kw)\n",
      "/home/matitz90/miniconda3/envs/d4t/lib/python3.10/site-packages/IPython/core/pylabtools.py:151: UserWarning: Glyph 127475 (\\N{REGIONAL INDICATOR SYMBOL LETTER N}) missing from current font.\n",
      "  fig.canvas.print_figure(bytes_io, **kw)\n",
      "/home/matitz90/miniconda3/envs/d4t/lib/python3.10/site-packages/IPython/core/pylabtools.py:151: UserWarning: Glyph 127897 (\\N{STUDIO MICROPHONE}) missing from current font.\n",
      "  fig.canvas.print_figure(bytes_io, **kw)\n",
      "/home/matitz90/miniconda3/envs/d4t/lib/python3.10/site-packages/IPython/core/pylabtools.py:151: UserWarning: Glyph 128147 (\\N{BEATING HEART}) missing from current font.\n",
      "  fig.canvas.print_figure(bytes_io, **kw)\n",
      "/home/matitz90/miniconda3/envs/d4t/lib/python3.10/site-packages/IPython/core/pylabtools.py:151: UserWarning: Glyph 128204 (\\N{PUSHPIN}) missing from current font.\n",
      "  fig.canvas.print_figure(bytes_io, **kw)\n",
      "/home/matitz90/miniconda3/envs/d4t/lib/python3.10/site-packages/IPython/core/pylabtools.py:151: UserWarning: Glyph 128269 (\\N{LEFT-POINTING MAGNIFYING GLASS}) missing from current font.\n",
      "  fig.canvas.print_figure(bytes_io, **kw)\n",
      "/home/matitz90/miniconda3/envs/d4t/lib/python3.10/site-packages/IPython/core/pylabtools.py:151: UserWarning: Glyph 129413 (\\N{EAGLE}) missing from current font.\n",
      "  fig.canvas.print_figure(bytes_io, **kw)\n",
      "/home/matitz90/miniconda3/envs/d4t/lib/python3.10/site-packages/IPython/core/pylabtools.py:151: UserWarning: Glyph 9200 (\\N{ALARM CLOCK}) missing from current font.\n",
      "  fig.canvas.print_figure(bytes_io, **kw)\n",
      "/home/matitz90/miniconda3/envs/d4t/lib/python3.10/site-packages/IPython/core/pylabtools.py:151: UserWarning: Glyph 127922 (\\N{GAME DIE}) missing from current font.\n",
      "  fig.canvas.print_figure(bytes_io, **kw)\n",
      "/home/matitz90/miniconda3/envs/d4t/lib/python3.10/site-packages/IPython/core/pylabtools.py:151: UserWarning: Glyph 128329 (\\N{OM SYMBOL}) missing from current font.\n",
      "  fig.canvas.print_figure(bytes_io, **kw)\n",
      "/home/matitz90/miniconda3/envs/d4t/lib/python3.10/site-packages/IPython/core/pylabtools.py:151: UserWarning: Glyph 128154 (\\N{GREEN HEART}) missing from current font.\n",
      "  fig.canvas.print_figure(bytes_io, **kw)\n",
      "/home/matitz90/miniconda3/envs/d4t/lib/python3.10/site-packages/IPython/core/pylabtools.py:151: UserWarning: Glyph 128129 (\\N{INFORMATION DESK PERSON}) missing from current font.\n",
      "  fig.canvas.print_figure(bytes_io, **kw)\n",
      "/home/matitz90/miniconda3/envs/d4t/lib/python3.10/site-packages/IPython/core/pylabtools.py:151: UserWarning: Glyph 127280 (\\N{SQUARED LATIN CAPITAL LETTER A}) missing from current font.\n",
      "  fig.canvas.print_figure(bytes_io, **kw)\n",
      "/home/matitz90/miniconda3/envs/d4t/lib/python3.10/site-packages/IPython/core/pylabtools.py:151: UserWarning: Glyph 127297 (\\N{SQUARED LATIN CAPITAL LETTER R}) missing from current font.\n",
      "  fig.canvas.print_figure(bytes_io, **kw)\n",
      "/home/matitz90/miniconda3/envs/d4t/lib/python3.10/site-packages/IPython/core/pylabtools.py:151: UserWarning: Glyph 127282 (\\N{SQUARED LATIN CAPITAL LETTER C}) missing from current font.\n",
      "  fig.canvas.print_figure(bytes_io, **kw)\n",
      "/home/matitz90/miniconda3/envs/d4t/lib/python3.10/site-packages/IPython/core/pylabtools.py:151: UserWarning: Glyph 127287 (\\N{SQUARED LATIN CAPITAL LETTER H}) missing from current font.\n",
      "  fig.canvas.print_figure(bytes_io, **kw)\n",
      "/home/matitz90/miniconda3/envs/d4t/lib/python3.10/site-packages/IPython/core/pylabtools.py:151: UserWarning: Glyph 127288 (\\N{SQUARED LATIN CAPITAL LETTER I}) missing from current font.\n",
      "  fig.canvas.print_figure(bytes_io, **kw)\n",
      "/home/matitz90/miniconda3/envs/d4t/lib/python3.10/site-packages/IPython/core/pylabtools.py:151: UserWarning: Glyph 127301 (\\N{SQUARED LATIN CAPITAL LETTER V}) missing from current font.\n",
      "  fig.canvas.print_figure(bytes_io, **kw)\n",
      "/home/matitz90/miniconda3/envs/d4t/lib/python3.10/site-packages/IPython/core/pylabtools.py:151: UserWarning: Glyph 128301 (\\N{TELESCOPE}) missing from current font.\n",
      "  fig.canvas.print_figure(bytes_io, **kw)\n",
      "/home/matitz90/miniconda3/envs/d4t/lib/python3.10/site-packages/IPython/core/pylabtools.py:151: UserWarning: Glyph 128745 (\\N{SMALL AIRPLANE}) missing from current font.\n",
      "  fig.canvas.print_figure(bytes_io, **kw)\n",
      "/home/matitz90/miniconda3/envs/d4t/lib/python3.10/site-packages/IPython/core/pylabtools.py:151: UserWarning: Glyph 128239 (\\N{POSTAL HORN}) missing from current font.\n",
      "  fig.canvas.print_figure(bytes_io, **kw)\n",
      "/home/matitz90/miniconda3/envs/d4t/lib/python3.10/site-packages/IPython/core/pylabtools.py:151: UserWarning: Glyph 128478 (\\N{ROLLED-UP NEWSPAPER}) missing from current font.\n",
      "  fig.canvas.print_figure(bytes_io, **kw)\n",
      "/home/matitz90/miniconda3/envs/d4t/lib/python3.10/site-packages/IPython/core/pylabtools.py:151: UserWarning: Glyph 10071 (\\N{HEAVY EXCLAMATION MARK SYMBOL}) missing from current font.\n",
      "  fig.canvas.print_figure(bytes_io, **kw)\n",
      "/home/matitz90/miniconda3/envs/d4t/lib/python3.10/site-packages/IPython/core/pylabtools.py:151: UserWarning: Glyph 127749 (\\N{SUNRISE}) missing from current font.\n",
      "  fig.canvas.print_figure(bytes_io, **kw)\n",
      "/home/matitz90/miniconda3/envs/d4t/lib/python3.10/site-packages/IPython/core/pylabtools.py:151: UserWarning: Glyph 127758 (\\N{EARTH GLOBE AMERICAS}) missing from current font.\n",
      "  fig.canvas.print_figure(bytes_io, **kw)\n",
      "/home/matitz90/miniconda3/envs/d4t/lib/python3.10/site-packages/IPython/core/pylabtools.py:151: UserWarning: Glyph 129670 (\\N{NESTING DOLLS}) missing from current font.\n",
      "  fig.canvas.print_figure(bytes_io, **kw)\n",
      "/home/matitz90/miniconda3/envs/d4t/lib/python3.10/site-packages/IPython/core/pylabtools.py:151: UserWarning: Glyph 128226 (\\N{PUBLIC ADDRESS LOUDSPEAKER}) missing from current font.\n",
      "  fig.canvas.print_figure(bytes_io, **kw)\n",
      "/home/matitz90/miniconda3/envs/d4t/lib/python3.10/site-packages/IPython/core/pylabtools.py:151: UserWarning: Glyph 128683 (\\N{NO ENTRY SIGN}) missing from current font.\n",
      "  fig.canvas.print_figure(bytes_io, **kw)\n",
      "/home/matitz90/miniconda3/envs/d4t/lib/python3.10/site-packages/IPython/core/pylabtools.py:151: UserWarning: Glyph 128137 (\\N{SYRINGE}) missing from current font.\n",
      "  fig.canvas.print_figure(bytes_io, **kw)\n",
      "/home/matitz90/miniconda3/envs/d4t/lib/python3.10/site-packages/IPython/core/pylabtools.py:151: UserWarning: Glyph 128024 (\\N{ELEPHANT}) missing from current font.\n",
      "  fig.canvas.print_figure(bytes_io, **kw)\n",
      "/home/matitz90/miniconda3/envs/d4t/lib/python3.10/site-packages/IPython/core/pylabtools.py:151: UserWarning: Glyph 120086 (\\N{MATHEMATICAL FRAKTUR CAPITAL S}) missing from current font.\n",
      "  fig.canvas.print_figure(bytes_io, **kw)\n",
      "/home/matitz90/miniconda3/envs/d4t/lib/python3.10/site-packages/IPython/core/pylabtools.py:151: UserWarning: Glyph 120094 (\\N{MATHEMATICAL FRAKTUR SMALL A}) missing from current font.\n",
      "  fig.canvas.print_figure(bytes_io, **kw)\n",
      "/home/matitz90/miniconda3/envs/d4t/lib/python3.10/site-packages/IPython/core/pylabtools.py:151: UserWarning: Glyph 120111 (\\N{MATHEMATICAL FRAKTUR SMALL R}) missing from current font.\n",
      "  fig.canvas.print_figure(bytes_io, **kw)\n",
      "/home/matitz90/miniconda3/envs/d4t/lib/python3.10/site-packages/IPython/core/pylabtools.py:151: UserWarning: Glyph 120102 (\\N{MATHEMATICAL FRAKTUR SMALL I}) missing from current font.\n",
      "  fig.canvas.print_figure(bytes_io, **kw)\n",
      "/home/matitz90/miniconda3/envs/d4t/lib/python3.10/site-packages/IPython/core/pylabtools.py:151: UserWarning: Glyph 120105 (\\N{MATHEMATICAL FRAKTUR SMALL L}) missing from current font.\n",
      "  fig.canvas.print_figure(bytes_io, **kw)\n",
      "/home/matitz90/miniconda3/envs/d4t/lib/python3.10/site-packages/IPython/core/pylabtools.py:151: UserWarning: Glyph 120108 (\\N{MATHEMATICAL FRAKTUR SMALL O}) missing from current font.\n",
      "  fig.canvas.print_figure(bytes_io, **kw)\n",
      "/home/matitz90/miniconda3/envs/d4t/lib/python3.10/site-packages/IPython/core/pylabtools.py:151: UserWarning: Glyph 120107 (\\N{MATHEMATICAL FRAKTUR SMALL N}) missing from current font.\n",
      "  fig.canvas.print_figure(bytes_io, **kw)\n",
      "/home/matitz90/miniconda3/envs/d4t/lib/python3.10/site-packages/IPython/core/pylabtools.py:151: UserWarning: Glyph 127325 (\\N{NEGATIVE CIRCLED LATIN CAPITAL LETTER N}) missing from current font.\n",
      "  fig.canvas.print_figure(bytes_io, **kw)\n",
      "/home/matitz90/miniconda3/envs/d4t/lib/python3.10/site-packages/IPython/core/pylabtools.py:151: UserWarning: Glyph 127316 (\\N{NEGATIVE CIRCLED LATIN CAPITAL LETTER E}) missing from current font.\n",
      "  fig.canvas.print_figure(bytes_io, **kw)\n",
      "/home/matitz90/miniconda3/envs/d4t/lib/python3.10/site-packages/IPython/core/pylabtools.py:151: UserWarning: Glyph 127334 (\\N{NEGATIVE CIRCLED LATIN CAPITAL LETTER W}) missing from current font.\n",
      "  fig.canvas.print_figure(bytes_io, **kw)\n",
      "/home/matitz90/miniconda3/envs/d4t/lib/python3.10/site-packages/IPython/core/pylabtools.py:151: UserWarning: Glyph 127330 (\\N{NEGATIVE CIRCLED LATIN CAPITAL LETTER S}) missing from current font.\n",
      "  fig.canvas.print_figure(bytes_io, **kw)\n",
      "/home/matitz90/miniconda3/envs/d4t/lib/python3.10/site-packages/IPython/core/pylabtools.py:151: UserWarning: Glyph 128406 (\\N{RAISED HAND WITH PART BETWEEN MIDDLE AND RING FINGERS}) missing from current font.\n",
      "  fig.canvas.print_figure(bytes_io, **kw)\n",
      "/home/matitz90/miniconda3/envs/d4t/lib/python3.10/site-packages/IPython/core/pylabtools.py:151: UserWarning: Glyph 127760 (\\N{GLOBE WITH MERIDIANS}) missing from current font.\n",
      "  fig.canvas.print_figure(bytes_io, **kw)\n",
      "/home/matitz90/miniconda3/envs/d4t/lib/python3.10/site-packages/IPython/core/pylabtools.py:151: UserWarning: Glyph 8987 (\\N{HOURGLASS}) missing from current font.\n",
      "  fig.canvas.print_figure(bytes_io, **kw)\n",
      "/home/matitz90/miniconda3/envs/d4t/lib/python3.10/site-packages/IPython/core/pylabtools.py:151: UserWarning: Glyph 128268 (\\N{ELECTRIC PLUG}) missing from current font.\n",
      "  fig.canvas.print_figure(bytes_io, **kw)\n",
      "/home/matitz90/miniconda3/envs/d4t/lib/python3.10/site-packages/IPython/core/pylabtools.py:151: UserWarning: Glyph 128200 (\\N{CHART WITH UPWARDS TREND}) missing from current font.\n",
      "  fig.canvas.print_figure(bytes_io, **kw)\n",
      "/home/matitz90/miniconda3/envs/d4t/lib/python3.10/site-packages/IPython/core/pylabtools.py:151: UserWarning: Glyph 127963 (\\N{CLASSICAL BUILDING}) missing from current font.\n",
      "  fig.canvas.print_figure(bytes_io, **kw)\n",
      "/home/matitz90/miniconda3/envs/d4t/lib/python3.10/site-packages/IPython/core/pylabtools.py:151: UserWarning: Glyph 128227 (\\N{CHEERING MEGAPHONE}) missing from current font.\n",
      "  fig.canvas.print_figure(bytes_io, **kw)\n",
      "/home/matitz90/miniconda3/envs/d4t/lib/python3.10/site-packages/IPython/core/pylabtools.py:151: UserWarning: Glyph 129500 (\\N{MERPERSON}) missing from current font.\n",
      "  fig.canvas.print_figure(bytes_io, **kw)\n",
      "/home/matitz90/miniconda3/envs/d4t/lib/python3.10/site-packages/IPython/core/pylabtools.py:151: UserWarning: Glyph 127996 (\\N{EMOJI MODIFIER FITZPATRICK TYPE-3}) missing from current font.\n",
      "  fig.canvas.print_figure(bytes_io, **kw)\n",
      "/home/matitz90/miniconda3/envs/d4t/lib/python3.10/site-packages/IPython/core/pylabtools.py:151: UserWarning: Glyph 128293 (\\N{FIRE}) missing from current font.\n",
      "  fig.canvas.print_figure(bytes_io, **kw)\n",
      "/home/matitz90/miniconda3/envs/d4t/lib/python3.10/site-packages/IPython/core/pylabtools.py:151: UserWarning: Glyph 129409 (\\N{LION FACE}) missing from current font.\n",
      "  fig.canvas.print_figure(bytes_io, **kw)\n",
      "/home/matitz90/miniconda3/envs/d4t/lib/python3.10/site-packages/IPython/core/pylabtools.py:151: UserWarning: Glyph 128270 (\\N{RIGHT-POINTING MAGNIFYING GLASS}) missing from current font.\n",
      "  fig.canvas.print_figure(bytes_io, **kw)\n",
      "/home/matitz90/miniconda3/envs/d4t/lib/python3.10/site-packages/IPython/core/pylabtools.py:151: UserWarning: Glyph 128166 (\\N{SPLASHING SWEAT SYMBOL}) missing from current font.\n",
      "  fig.canvas.print_figure(bytes_io, **kw)\n",
      "/home/matitz90/miniconda3/envs/d4t/lib/python3.10/site-packages/IPython/core/pylabtools.py:151: UserWarning: Glyph 129718 (\\N{FEATHER}) missing from current font.\n",
      "  fig.canvas.print_figure(bytes_io, **kw)\n",
      "/home/matitz90/miniconda3/envs/d4t/lib/python3.10/site-packages/IPython/core/pylabtools.py:151: UserWarning: Glyph 127795 (\\N{DECIDUOUS TREE}) missing from current font.\n",
      "  fig.canvas.print_figure(bytes_io, **kw)\n",
      "/home/matitz90/miniconda3/envs/d4t/lib/python3.10/site-packages/IPython/core/pylabtools.py:151: UserWarning: Glyph 128059 (\\N{BEAR FACE}) missing from current font.\n",
      "  fig.canvas.print_figure(bytes_io, **kw)\n",
      "/home/matitz90/miniconda3/envs/d4t/lib/python3.10/site-packages/IPython/core/pylabtools.py:151: UserWarning: Glyph 128240 (\\N{NEWSPAPER}) missing from current font.\n",
      "  fig.canvas.print_figure(bytes_io, **kw)\n",
      "/home/matitz90/miniconda3/envs/d4t/lib/python3.10/site-packages/IPython/core/pylabtools.py:151: UserWarning: Glyph 128309 (\\N{LARGE BLUE CIRCLE}) missing from current font.\n",
      "  fig.canvas.print_figure(bytes_io, **kw)\n",
      "/home/matitz90/miniconda3/envs/d4t/lib/python3.10/site-packages/IPython/core/pylabtools.py:151: UserWarning: Glyph 120282 (\\N{MATHEMATICAL SANS-SERIF BOLD CAPITAL G}) missing from current font.\n",
      "  fig.canvas.print_figure(bytes_io, **kw)\n",
      "/home/matitz90/miniconda3/envs/d4t/lib/python3.10/site-packages/IPython/core/pylabtools.py:151: UserWarning: Glyph 120313 (\\N{MATHEMATICAL SANS-SERIF BOLD SMALL L}) missing from current font.\n",
      "  fig.canvas.print_figure(bytes_io, **kw)\n",
      "/home/matitz90/miniconda3/envs/d4t/lib/python3.10/site-packages/IPython/core/pylabtools.py:151: UserWarning: Glyph 120316 (\\N{MATHEMATICAL SANS-SERIF BOLD SMALL O}) missing from current font.\n",
      "  fig.canvas.print_figure(bytes_io, **kw)\n",
      "/home/matitz90/miniconda3/envs/d4t/lib/python3.10/site-packages/IPython/core/pylabtools.py:151: UserWarning: Glyph 120303 (\\N{MATHEMATICAL SANS-SERIF BOLD SMALL B}) missing from current font.\n",
      "  fig.canvas.print_figure(bytes_io, **kw)\n",
      "/home/matitz90/miniconda3/envs/d4t/lib/python3.10/site-packages/IPython/core/pylabtools.py:151: UserWarning: Glyph 120302 (\\N{MATHEMATICAL SANS-SERIF BOLD SMALL A}) missing from current font.\n",
      "  fig.canvas.print_figure(bytes_io, **kw)\n",
      "/home/matitz90/miniconda3/envs/d4t/lib/python3.10/site-packages/IPython/core/pylabtools.py:151: UserWarning: Glyph 120306 (\\N{MATHEMATICAL SANS-SERIF BOLD SMALL E}) missing from current font.\n",
      "  fig.canvas.print_figure(bytes_io, **kw)\n",
      "/home/matitz90/miniconda3/envs/d4t/lib/python3.10/site-packages/IPython/core/pylabtools.py:151: UserWarning: Glyph 120281 (\\N{MATHEMATICAL SANS-SERIF BOLD CAPITAL F}) missing from current font.\n",
      "  fig.canvas.print_figure(bytes_io, **kw)\n",
      "/home/matitz90/miniconda3/envs/d4t/lib/python3.10/site-packages/IPython/core/pylabtools.py:151: UserWarning: Glyph 120319 (\\N{MATHEMATICAL SANS-SERIF BOLD SMALL R}) missing from current font.\n",
      "  fig.canvas.print_figure(bytes_io, **kw)\n",
      "/home/matitz90/miniconda3/envs/d4t/lib/python3.10/site-packages/IPython/core/pylabtools.py:151: UserWarning: Glyph 120310 (\\N{MATHEMATICAL SANS-SERIF BOLD SMALL I}) missing from current font.\n",
      "  fig.canvas.print_figure(bytes_io, **kw)\n",
      "/home/matitz90/miniconda3/envs/d4t/lib/python3.10/site-packages/IPython/core/pylabtools.py:151: UserWarning: Glyph 120309 (\\N{MATHEMATICAL SANS-SERIF BOLD SMALL H}) missing from current font.\n",
      "  fig.canvas.print_figure(bytes_io, **kw)\n",
      "/home/matitz90/miniconda3/envs/d4t/lib/python3.10/site-packages/IPython/core/pylabtools.py:151: UserWarning: Glyph 120321 (\\N{MATHEMATICAL SANS-SERIF BOLD SMALL T}) missing from current font.\n",
      "  fig.canvas.print_figure(bytes_io, **kw)\n",
      "/home/matitz90/miniconda3/envs/d4t/lib/python3.10/site-packages/IPython/core/pylabtools.py:151: UserWarning: Glyph 127775 (\\N{GLOWING STAR}) missing from current font.\n",
      "  fig.canvas.print_figure(bytes_io, **kw)\n"
     ]
    },
    {
     "data": {
      "image/png": "[encoded data removed]",
      "text/plain": [
       "<Figure size 432x288 with 1 Axes>"
      ]
     },
     "metadata": {},
     "output_type": "display_data"
    }
   ],
   "source": [
    "nx.draw(G, pos, with_labels=True, node_size=50, node_color='skyblue', font_size=1, font_color='black')\n",
    "nx.draw_networkx_edges(G, pos, edgelist=G.edges(), width=0.1, edge_color='gray')"
   ]
  },
  {
   "attachments": {},
   "cell_type": "markdown",
   "metadata": {},
   "source": [
    "Hier findet ihr die Dokumentation von networkx, wie ihr die Visualisierung anpassen könnt:<br>\n",
    "https://networkx.org/documentation/stable/reference/drawing.html"
   ]
  },
  {
   "attachments": {},
   "cell_type": "markdown",
   "metadata": {},
   "source": [
    "Wir errechnen die Zentralitätsmaße des Netzwerks. Zunächst für die Knoten."
   ]
  },
  {
   "cell_type": "code",
   "execution_count": null,
   "metadata": {},
   "outputs": [],
   "source": [
    "degree_centrality = nx.degree_centrality(G)\n",
    "closeness_centrality = nx.closeness_centrality(G)\n",
    "betweenness_centrality = nx.betweenness_centrality(G)"
   ]
  },
  {
   "attachments": {},
   "cell_type": "markdown",
   "metadata": {},
   "source": [
    "Wir speichern die Ergebnisse in einem Pandas Dataframe."
   ]
  },
  {
   "cell_type": "code",
   "execution_count": null,
   "metadata": {},
   "outputs": [],
   "source": [
    "data = {\n",
    "    'Node': list(G.nodes()),\n",
    "    'Degree Centrality': list(degree_centrality.values()),\n",
    "    'Closeness Centrality': list(closeness_centrality.values()),\n",
    "    'Betweenness Centrality': list(betweenness_centrality.values())\n",
    "}\n",
    "\n",
    "df_kpis = pd.DataFrame(data)"
   ]
  },
  {
   "attachments": {},
   "cell_type": "markdown",
   "metadata": {},
   "source": [
    "Wir schauen uns die Ergebnisse an."
   ]
  },
  {
   "cell_type": "code",
   "execution_count": null,
   "metadata": {},
   "outputs": [],
   "source": [
    "df_kpis.head(10)"
   ]
  },
  {
   "attachments": {},
   "cell_type": "markdown",
   "metadata": {},
   "source": [
    "Wir berechnen die Dichte des Netzwerks und lassen uns diese auch direkt ausgeben."
   ]
  },
  {
   "cell_type": "code",
   "execution_count": null,
   "metadata": {},
   "outputs": [],
   "source": [
    "graph_density = nx.density(G)\n",
    "\n",
    "print(f\"Graph Density: {graph_density}\")"
   ]
  },
  {
   "attachments": {},
   "cell_type": "markdown",
   "metadata": {},
   "source": [
    "## Glückwunsch. Fertig ist deine erste Netzwerkanalyse auf Basis von Telegram-Daten!"
   ]
  }
 ],
 "metadata": {
  "interpreter": {
   "hash": "f5d0c68b3634955201284245298b073852acfce933d3409198c92b2497f35c8f"
  },
  "kernelspec": {
   "display_name": "Python 3.10.4 ('d4t': conda)",
   "language": "python",
   "name": "python3"
  },
  "language_info": {
   "codemirror_mode": {
    "name": "ipython",
    "version": 3
   },
   "file_extension": ".py",
   "mimetype": "text/x-python",
   "name": "python",
   "nbconvert_exporter": "python",
   "pygments_lexer": "ipython3",
   "version": "3.10.4"
  },
  "orig_nbformat": 4
 },
 "nbformat": 4,
 "nbformat_minor": 2
}

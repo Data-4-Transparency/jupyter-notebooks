{
 "cells": [
  {
   "attachments": {},
   "cell_type": "markdown",
   "metadata": {},
   "source": [
    "# Eure Netzwerkanalyse auf Basis von Telegram-Daten"
   ]
  },
  {
   "attachments": {},
   "cell_type": "markdown",
   "metadata": {},
   "source": [
    "Wir importieren die Libraries, die wir für die Netzwerkanalyse benötigen. <br>\n",
    "<i>Zur Erinnerung: Mit der Nutzung von Libraries sparen wir uns Programmieraufwand, weil wir bereits fertige Komponenten nutzen können.</i>"
   ]
  },
  {
   "cell_type": "code",
   "execution_count": null,
   "metadata": {},
   "outputs": [],
   "source": [
    "import pandas as pd # eine Library, die uns dabei hilft Daten vorzubereiten\n",
    "import networkx as nx # eine Library, die auf Netzwerkanalyse spezialisiert ist\n",
    "import openpyxl # eine Library, die mit Excel-Dateien umgehen kann\n",
    "import matplotlib.pyplot as plt # eine Library, die auf Visualisierungen spezialisiert ist"
   ]
  },
  {
   "attachments": {},
   "cell_type": "markdown",
   "metadata": {},
   "source": [
    "Wir beginnen außerhalb vom Jupyter Notebook. Bitte exportiert Euren csv-File aus dem Telegram Monitoring. <br> <br>\n",
    "Im nächsten Schritt importieren wir Euren csv-File. "
   ]
  },
  {
   "cell_type": "code",
   "execution_count": null,
   "metadata": {},
   "outputs": [],
   "source": [
    "file_name='Armenien_Telegram.csv'\n",
    "df = pd.read_csv(file_name,sep=\";\")"
   ]
  },
  {
   "attachments": {},
   "cell_type": "markdown",
   "metadata": {},
   "source": [
    "Jetzt schauen wir uns die ersten 5 Zeilen der importierten Daten an:"
   ]
  },
  {
   "cell_type": "code",
   "execution_count": null,
   "metadata": {},
   "outputs": [],
   "source": [
    "df.head()"
   ]
  },
  {
   "cell_type": "markdown",
   "metadata": {},
   "source": [
    "Aber wie groß ist das Dataset? Wie viele Zeilen? Wie viele Spalten?"
   ]
  },
  {
   "cell_type": "code",
   "execution_count": null,
   "metadata": {},
   "outputs": [],
   "source": [
    "df.shape"
   ]
  },
  {
   "cell_type": "markdown",
   "metadata": {},
   "source": [
    "Wie kommen wir jetzt zu einer Kantenliste? Wir erinnern uns, dass eine Kantenliste wie folgt aufgebaut ist: <br>\n",
    "| Knoten 1 | Knoten 2 | Attribut |\n",
    "|----------|----------|----------|\n",
    "| Knoten X  | Knoten Y  | Eigenschaft der Verbindung  |\n",
    "| Knoten X  | Knoten Z  | Eigenschaft der Verbindung |\n",
    "| Knoten Y  | Knoten Z  | Eigenschaft der Verbindung |"
   ]
  },
  {
   "cell_type": "markdown",
   "metadata": {},
   "source": [
    "Wie kriegen wir unser Dataframe in diese Form? Zunächst müssen wir die Knoten identifizieren.<br>\n",
    "Wir werden uns heute auf Verbindungen (=Kanten) konzentrieren, die durch die Weiterleitung von Nachrichten entstanden sind.<br><br>Bedeutet:<br>Eine weitergeleitete Nachricht stellt eine Kante dar. <br>Der Kanal, in dem die Nachricht weitergeleitet wurde, + der Kanal, aus dem eine Nachricht weitergeleitet wurde, stellen die Knoten dar."
   ]
  },
  {
   "cell_type": "markdown",
   "metadata": {},
   "source": [
    "Lasst uns nochmal die ersten 5 Zeilen unseres Datasets anschauen, um zu überlegen wie weit wir von einer Kantenliste weg sind?"
   ]
  },
  {
   "cell_type": "code",
   "execution_count": null,
   "metadata": {},
   "outputs": [],
   "source": [
    "# Weißt du noch wie? Sonst kannst du oben spicken"
   ]
  },
  {
   "cell_type": "markdown",
   "metadata": {},
   "source": [
    "Wir stellen fest, dass der Export aus dem Telegram Monitoring einer Kantenliste schon ziemlich ähnlich sieht:<br>\n",
    "* Eine Zeile je Nachricht - sprich eine Zeile je Kante --> das passt schon mal! Aber es wurde ja nicht jede Nachricht weitergeleitet? Diese Nachrichten müssen wir bereinigen.\n",
    "* Die Spalte <i>channel_name</i> stellt den ersten Knoten dar - nämlich den Kanal der die Nachricht weiterleitet.\n",
    "* Zu dem 2. Knoten, dem Kanal aus dem die Nachricht weitergeleitet wurde, haben wir nur eine ID: <i>forward_channel_id</i>"
   ]
  },
  {
   "cell_type": "markdown",
   "metadata": {},
   "source": [
    "Als erstes bereinigen wir das Dataframe, um die nicht weitergeleiteten Nachrichten.\n"
   ]
  },
  {
   "cell_type": "code",
   "execution_count": null,
   "metadata": {},
   "outputs": [],
   "source": [
    "df_forwards=df.dropna(subset=['forward_channel_id']) #die Methode \"droppt\" alle Zeiln mit einer leeren forward_channel_id"
   ]
  },
  {
   "cell_type": "markdown",
   "metadata": {},
   "source": [
    "Wie viele Zeilen haben wir jetzt übrig?"
   ]
  },
  {
   "cell_type": "code",
   "execution_count": null,
   "metadata": {},
   "outputs": [],
   "source": [
    "df_forwards.shape"
   ]
  },
  {
   "cell_type": "markdown",
   "metadata": {},
   "source": [
    "Um unser Netzwerk nachher schön darzustellen wäre auch der Name zum 2. Knoten wichtig. Glücklicherweise steht ein 2. csv-file parat, der uns dabei helfen wird den Kanal-Namen zur ID zuzuordnen. Diesen File importieren wird:"
   ]
  },
  {
   "cell_type": "code",
   "execution_count": null,
   "metadata": {},
   "outputs": [],
   "source": [
    "file_name2='telegram_channels.csv'\n",
    "#weißt du noch, wie wir einen csv-file importieren können? Bitte nenne das Dataframe \"df_channels\""
   ]
  },
  {
   "cell_type": "code",
   "execution_count": null,
   "metadata": {},
   "outputs": [],
   "source": [
    "df_channels.head()"
   ]
  },
  {
   "cell_type": "markdown",
   "metadata": {},
   "source": [
    "Das verbinden von 2 Tabellen wird in der Regel als Join bezeichnet. <br>Die <i>telegram_id</i> entspricht der <i>forward_channel_id</i>. Die <i>description</i> entspricht dem <i>channel_name</i>.<br><br>\n",
    "\n",
    "Wir müssen also die beiden Dataframes mithilfe der ids joinen, um die Kantenliste um die <i>description</i> zu erweitern. <br> Wir nutzen die Gelegenheit und benennen das Dataframe zur \"Kantenliste\" um. "
   ]
  },
  {
   "cell_type": "code",
   "execution_count": null,
   "metadata": {},
   "outputs": [],
   "source": [
    "kantenliste=pd.merge(df_forwards, df_channels, left_on='forward_channel_id', right_on='telegram_id', how='inner')"
   ]
  },
  {
   "cell_type": "markdown",
   "metadata": {},
   "source": [
    "Wie groß ist unsere Kantenliste nun?"
   ]
  },
  {
   "cell_type": "code",
   "execution_count": null,
   "metadata": {},
   "outputs": [],
   "source": [
    "kantenliste.shape"
   ]
  },
  {
   "cell_type": "markdown",
   "metadata": {},
   "source": [
    "Den ganz Aufmerksamen könnte jetzt auffallen, dass wir einige Nachrichten verloren haben - die Nachrichten, die aus nicht deutschsprachigen Kanälen weitergeleitet wurden, die wir nicht ins Crawling mit aufnehmen.<br><br>Für unsere benötigen wir selbstverständlich keine 22 Spalten. In der folgenden Liste, kannst du definieren, welche Spalten du mit in die Netzwerkanalyse nehmen möchtest. Im nächsten Schritt werden wir dann die Kantenliste auf erwähnten Spalten begrenzen."
   ]
  },
  {
   "cell_type": "code",
   "execution_count": null,
   "metadata": {},
   "outputs": [],
   "source": [
    "spalten=[\"channel_name\"]\n",
    "# Der channel_name reicht noch nicht. Ergänze die fehlende Spalte mit einem Komma getrennt. "
   ]
  },
  {
   "cell_type": "markdown",
   "metadata": {},
   "source": [
    "Jetzt begrenzen wir die Kantenliste auf die gewählten Spalten."
   ]
  },
  {
   "cell_type": "code",
   "execution_count": null,
   "metadata": {},
   "outputs": [],
   "source": [
    "kantenliste=kantenliste[spalten]\n",
    "kantenliste.head()"
   ]
  },
  {
   "attachments": {},
   "cell_type": "markdown",
   "metadata": {},
   "source": [
    "Jetzt erzeugen wir mithilfe unserer Kantenliste einen Graph namens \"G\". Ein Graph ist noch nicht die Visualisierung selbst, beinhaltet bereits aber diverse Informationen, die für die Visualisierung notwendig sind."
   ]
  },
  {
   "cell_type": "code",
   "execution_count": null,
   "metadata": {},
   "outputs": [],
   "source": [
    "G = nx.from_pandas_edgelist(kantenliste, source='description', target='channel_name')"
   ]
  },
  {
   "attachments": {},
   "cell_type": "markdown",
   "metadata": {},
   "source": [
    "Jetzt wählen wir ein Layout, das für die Visualisierung noch einen notwendigen Parameter darstellt. Das Spring-Layout ist ein guter Start.<br><br>\n",
    "Wer später nochmal mit anderen Layouts experimentieren möchte, hier ein Link zur Doku: <br>\n",
    "https://networkx.org/documentation/stable/reference/drawing.html"
   ]
  },
  {
   "cell_type": "code",
   "execution_count": null,
   "metadata": {},
   "outputs": [],
   "source": [
    "pos = nx.spring_layout(G)"
   ]
  },
  {
   "attachments": {},
   "cell_type": "markdown",
   "metadata": {},
   "source": [
    "Im nächsten Schritt erstellen wir die Visualisierung. Die erste Zeile erzeugt die Knoten und die zweite Zeile die Kanten."
   ]
  },
  {
   "cell_type": "code",
   "execution_count": null,
   "metadata": {},
   "outputs": [],
   "source": [
    "plt.figure(figsize=(100, 100)) \n",
    "nx.draw(G, pos, with_labels=True, node_size=150, node_color='skyblue', font_size=8, font_color='black')\n",
    "nx.draw_networkx_edges(G, pos, edgelist=G.edges(), width=0.1, edge_color='gray')\n",
    "plt.show()"
   ]
  },
  {
   "cell_type": "markdown",
   "metadata": {},
   "source": [
    "Wahrscheinlich ziemlich unübersichtlich, oder? Wir werden später nochmal versuchen, die Kantenliste vorzufiltern.\n",
    "Aber lasst uns zunächst auf die Kennzahlen schauen."
   ]
  },
  {
   "attachments": {},
   "cell_type": "markdown",
   "metadata": {},
   "source": [
    "Wir errechnen die Zentralitätsmaße des Netzwerks. Zunächst für die Knoten."
   ]
  },
  {
   "cell_type": "code",
   "execution_count": null,
   "metadata": {},
   "outputs": [],
   "source": [
    "degree_centrality = nx.degree_centrality(G)\n",
    "closeness_centrality = nx.closeness_centrality(G)\n",
    "betweenness_centrality = nx.betweenness_centrality(G)"
   ]
  },
  {
   "attachments": {},
   "cell_type": "markdown",
   "metadata": {},
   "source": [
    "Wir speichern die Ergebnisse in einem Pandas Dataframe."
   ]
  },
  {
   "cell_type": "code",
   "execution_count": null,
   "metadata": {},
   "outputs": [],
   "source": [
    "data = {\n",
    "    'Node': list(G.nodes()),\n",
    "    'Degree Centrality': list(degree_centrality.values()),\n",
    "    'Closeness Centrality': list(closeness_centrality.values()),\n",
    "    'Betweenness Centrality': list(betweenness_centrality.values())\n",
    "}\n",
    "\n",
    "df_kpis = pd.DataFrame(data)"
   ]
  },
  {
   "attachments": {},
   "cell_type": "markdown",
   "metadata": {},
   "source": [
    "Wir schauen uns die Ergebnisse an."
   ]
  },
  {
   "cell_type": "code",
   "execution_count": null,
   "metadata": {},
   "outputs": [],
   "source": [
    "df_kpis.head(10)"
   ]
  },
  {
   "cell_type": "markdown",
   "metadata": {},
   "source": [
    "Wir sortieren die Ergebnisse absteigend."
   ]
  },
  {
   "cell_type": "code",
   "execution_count": null,
   "metadata": {},
   "outputs": [],
   "source": [
    "sortierer='Betweenness Centrality' #probiere gerne auch die anderen Spalten\n",
    "df_kpis.sort_values(by=sortierer, ascending=False)"
   ]
  },
  {
   "attachments": {},
   "cell_type": "markdown",
   "metadata": {},
   "source": [
    "Wir berechnen die Dichte des Netzwerks und lassen uns diese auch direkt ausgeben."
   ]
  },
  {
   "cell_type": "code",
   "execution_count": null,
   "metadata": {},
   "outputs": [],
   "source": [
    "graph_density = nx.density(G)\n",
    "\n",
    "print(f\"Graph Density: {graph_density}\")"
   ]
  },
  {
   "cell_type": "markdown",
   "metadata": {},
   "source": [
    "Aber lasst uns mal versuchen, nochmal einen übersichtlichere Visualisierung zu zaubern. Im ersten Versuch löschen wir alle Kanten, die wir doppelt in der List haben."
   ]
  },
  {
   "cell_type": "code",
   "execution_count": null,
   "metadata": {},
   "outputs": [],
   "source": [
    "kantenliste= kantenliste.drop_duplicates()\n",
    "kantenliste.shape"
   ]
  },
  {
   "cell_type": "markdown",
   "metadata": {},
   "source": [
    "Immer noch zu viele Kanten? Der nächste Versuch wird aufwändiger. Wir möchten nur Kanäle (Knoten) berücksichtigen, die über 1000 Follower haben. Dafür können wir unser erstes Dataframe mit den Nachrichten filtern und dann das Notebook nochmal ab dem Join durchklicken."
   ]
  },
  {
   "cell_type": "code",
   "execution_count": null,
   "metadata": {},
   "outputs": [],
   "source": [
    "df_forwards=df_forwards[df_forwards['channel_followers']>1000]\n",
    "df_forwards.shape"
   ]
  },
  {
   "cell_type": "markdown",
   "metadata": {},
   "source": [
    "Zeigt deine Visualisierung auch einige komische Schleifen? Beim näheren Zoomen kann man erkennen, dass es sich um Forwards in den eigenen Kanal handelt. Diese können wir auch bereinigen, in dem wir alle Kanten löschen, bei denen <i>Knoten 1 = Knoten 2</i> ist."
   ]
  },
  {
   "cell_type": "code",
   "execution_count": null,
   "metadata": {},
   "outputs": [],
   "source": [
    "kantenliste=kantenliste[kantenliste['channel_name']!=kantenliste['description']]\n",
    "kantenliste.shape"
   ]
  },
  {
   "attachments": {},
   "cell_type": "markdown",
   "metadata": {},
   "source": [
    "Hier findet ihr die Dokumentation von networkx, wie ihr die Visualisierung anpassen könnt:<br>\n",
    "https://networkx.org/documentation/stable/reference/drawing.html"
   ]
  },
  {
   "attachments": {},
   "cell_type": "markdown",
   "metadata": {},
   "source": [
    "## Glückwunsch. Fertig ist deine erste Netzwerkanalyse auf Basis von Telegram-Daten!"
   ]
  }
 ],
 "metadata": {
  "interpreter": {
   "hash": "f5d0c68b3634955201284245298b073852acfce933d3409198c92b2497f35c8f"
  },
  "kernelspec": {
   "display_name": "Python 3.10.4 ('d4t': conda)",
   "language": "python",
   "name": "python3"
  },
  "language_info": {
   "codemirror_mode": {
    "name": "ipython",
    "version": 3
   },
   "file_extension": ".py",
   "mimetype": "text/x-python",
   "name": "python",
   "nbconvert_exporter": "python",
   "pygments_lexer": "ipython3",
   "version": "3.10.4"
  },
  "orig_nbformat": 4
 },
 "nbformat": 4,
 "nbformat_minor": 2
}

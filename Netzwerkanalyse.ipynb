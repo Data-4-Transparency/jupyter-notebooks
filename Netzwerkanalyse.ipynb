{
 "cells": [
  {
   "attachments": {},
   "cell_type": "markdown",
   "metadata": {},
   "source": [
    "# Eure erste Netzwerkanalyse"
   ]
  },
  {
   "attachments": {},
   "cell_type": "markdown",
   "metadata": {},
   "source": [
    "Wir importieren die Libraries, die wir für die Netzwerkanalyse benötigen. <br>\n",
    "<i>Zur Erinnerung: Mit der Nutzung von Libraries sparen wir uns Programmieraufwand, weil wir bereits fertige Komponenten nutzen können.</i>"
   ]
  },
  {
   "cell_type": "code",
   "execution_count": 1,
   "metadata": {},
   "outputs": [],
   "source": [
    "import pandas as pd # eine Library, die uns dabei hilft Daten vorzubereiten\n",
    "import networkx as nx # eine Library, die auf Netzwerkanalyse spezialisiert ist\n",
    "import openpyxl # eine Library, die mit Excel-Dateien umgehen kann\n",
    "import matplotlib # eine Library, die auf Visualisierungen spezialisiert ist\n"
   ]
  },
  {
   "attachments": {},
   "cell_type": "markdown",
   "metadata": {},
   "source": [
    "Wir beginnen außerhalb vom Jupyter Notebook. Bitte bereitet Eure Kantenliste in Excel vor. <br> <br>\n",
    "Im nächsten Schritt importieren wir Euren Excelfile "
   ]
  },
  {
   "cell_type": "code",
   "execution_count": 10,
   "metadata": {},
   "outputs": [],
   "source": [
    "df = pd.read_excel('Daten für Netzwerkanalyse.xlsx', sheet_name='Tabelle1')"
   ]
  },
  {
   "attachments": {},
   "cell_type": "markdown",
   "metadata": {},
   "source": [
    "Jetzt schauen wir uns die ersten 5 Zeilen der importierten Daten an:"
   ]
  },
  {
   "cell_type": "code",
   "execution_count": 11,
   "metadata": {},
   "outputs": [
    {
     "data": {
      "text/html": [
       "<div>\n",
       "<style scoped>\n",
       "    .dataframe tbody tr th:only-of-type {\n",
       "        vertical-align: middle;\n",
       "    }\n",
       "\n",
       "    .dataframe tbody tr th {\n",
       "        vertical-align: top;\n",
       "    }\n",
       "\n",
       "    .dataframe thead th {\n",
       "        text-align: right;\n",
       "    }\n",
       "</style>\n",
       "<table border=\"1\" class=\"dataframe\">\n",
       "  <thead>\n",
       "    <tr style=\"text-align: right;\">\n",
       "      <th></th>\n",
       "      <th>Knoten 1</th>\n",
       "      <th>Knoten 2</th>\n",
       "    </tr>\n",
       "  </thead>\n",
       "  <tbody>\n",
       "    <tr>\n",
       "      <th>0</th>\n",
       "      <td>A</td>\n",
       "      <td>B</td>\n",
       "    </tr>\n",
       "    <tr>\n",
       "      <th>1</th>\n",
       "      <td>A</td>\n",
       "      <td>F</td>\n",
       "    </tr>\n",
       "    <tr>\n",
       "      <th>2</th>\n",
       "      <td>A</td>\n",
       "      <td>C</td>\n",
       "    </tr>\n",
       "    <tr>\n",
       "      <th>3</th>\n",
       "      <td>B</td>\n",
       "      <td>C</td>\n",
       "    </tr>\n",
       "    <tr>\n",
       "      <th>4</th>\n",
       "      <td>C</td>\n",
       "      <td>F</td>\n",
       "    </tr>\n",
       "  </tbody>\n",
       "</table>\n",
       "</div>"
      ],
      "text/plain": [
       "  Knoten 1 Knoten 2\n",
       "0        A        B\n",
       "1        A        F\n",
       "2        A        C\n",
       "3        B        C\n",
       "4        C        F"
      ]
     },
     "execution_count": 11,
     "metadata": {},
     "output_type": "execute_result"
    }
   ],
   "source": [
    "df.head()"
   ]
  },
  {
   "attachments": {},
   "cell_type": "markdown",
   "metadata": {},
   "source": [
    "Jetzt erzeugen wir mithilfe unserer Kantenliste einen Graph namens \"G\". Ein Graph ist noch nicht die Visualisierung selbst, beinhaltet bereits aber diverse Informationen, die für die Visualisierung notwendig sind."
   ]
  },
  {
   "cell_type": "code",
   "execution_count": 12,
   "metadata": {},
   "outputs": [],
   "source": [
    "G = nx.from_pandas_edgelist(df, source='Knoten 1', target='Knoten 2')"
   ]
  },
  {
   "attachments": {},
   "cell_type": "markdown",
   "metadata": {},
   "source": [
    "Jetzt wählen wir ein Layout, das für die Visualisierung noch einen notwendigen Parameter darstellt. Das Spring-Layout ist ein guter Start.<br><br>\n",
    "Wer später nochmal mit anderen Layouts experimentieren möchte, hier ein Link zur Doku: <br>\n",
    "https://networkx.org/documentation/stable/reference/drawing.html"
   ]
  },
  {
   "cell_type": "code",
   "execution_count": 13,
   "metadata": {},
   "outputs": [],
   "source": [
    "pos = nx.spring_layout(G)"
   ]
  },
  {
   "attachments": {},
   "cell_type": "markdown",
   "metadata": {},
   "source": [
    "Im nächsten Schritt erstellen wir die Visualisierung. Die erste Zeile erzeugt die Knoten und die zweite Zeile die Kanten."
   ]
  },
  {
   "cell_type": "code",
   "execution_count": 14,
   "metadata": {},
   "outputs": [
    {
     "data": {
      "text/plain": [
       "<matplotlib.collections.LineCollection at 0x7f0c86c92380>"
      ]
     },
     "execution_count": 14,
     "metadata": {},
     "output_type": "execute_result"
    },
    {
     "data": {
      "image/png": "[encoded data removed]",
      "text/plain": [
       "<Figure size 432x288 with 1 Axes>"
      ]
     },
     "metadata": {},
     "output_type": "display_data"
    }
   ],
   "source": [
    "nx.draw(G, pos, with_labels=True, node_size=500, node_color='skyblue', font_size=10, font_color='black')\n",
    "nx.draw_networkx_edges(G, pos, edgelist=G.edges(), width=1, edge_color='gray')"
   ]
  },
  {
   "attachments": {},
   "cell_type": "markdown",
   "metadata": {},
   "source": [
    "Hier findet ihr die Dokumentation von networkx, wie ihr die Visualisierung anpassen könnt:<br>\n",
    "https://networkx.org/documentation/stable/reference/drawing.html"
   ]
  },
  {
   "attachments": {},
   "cell_type": "markdown",
   "metadata": {},
   "source": [
    "Wir errechnen die Zentralitätsmaße des Netzwerks. Zunächst für die Knoten."
   ]
  },
  {
   "cell_type": "code",
   "execution_count": 8,
   "metadata": {},
   "outputs": [],
   "source": [
    "degree_centrality = nx.degree_centrality(G)\n",
    "closeness_centrality = nx.closeness_centrality(G)\n",
    "betweenness_centrality = nx.betweenness_centrality(G)"
   ]
  },
  {
   "attachments": {},
   "cell_type": "markdown",
   "metadata": {},
   "source": [
    "Wir speichern die Ergebnisse in einem Pandas Dataframe."
   ]
  },
  {
   "cell_type": "code",
   "execution_count": 15,
   "metadata": {},
   "outputs": [],
   "source": [
    "data = {\n",
    "    'Node': list(G.nodes()),\n",
    "    'Degree Centrality': list(degree_centrality.values()),\n",
    "    'Closeness Centrality': list(closeness_centrality.values()),\n",
    "    'Betweenness Centrality': list(betweenness_centrality.values())\n",
    "}\n",
    "\n",
    "df_kpis = pd.DataFrame(data)"
   ]
  },
  {
   "attachments": {},
   "cell_type": "markdown",
   "metadata": {},
   "source": [
    "Wir schauen uns die Ergebnisse an."
   ]
  },
  {
   "cell_type": "code",
   "execution_count": 18,
   "metadata": {},
   "outputs": [
    {
     "data": {
      "text/html": [
       "<div>\n",
       "<style scoped>\n",
       "    .dataframe tbody tr th:only-of-type {\n",
       "        vertical-align: middle;\n",
       "    }\n",
       "\n",
       "    .dataframe tbody tr th {\n",
       "        vertical-align: top;\n",
       "    }\n",
       "\n",
       "    .dataframe thead th {\n",
       "        text-align: right;\n",
       "    }\n",
       "</style>\n",
       "<table border=\"1\" class=\"dataframe\">\n",
       "  <thead>\n",
       "    <tr style=\"text-align: right;\">\n",
       "      <th></th>\n",
       "      <th>Node</th>\n",
       "      <th>Degree Centrality</th>\n",
       "      <th>Closeness Centrality</th>\n",
       "      <th>Betweenness Centrality</th>\n",
       "    </tr>\n",
       "  </thead>\n",
       "  <tbody>\n",
       "    <tr>\n",
       "      <th>0</th>\n",
       "      <td>A</td>\n",
       "      <td>0.6</td>\n",
       "      <td>0.714286</td>\n",
       "      <td>0.05</td>\n",
       "    </tr>\n",
       "    <tr>\n",
       "      <th>1</th>\n",
       "      <td>B</td>\n",
       "      <td>0.4</td>\n",
       "      <td>0.625000</td>\n",
       "      <td>0.00</td>\n",
       "    </tr>\n",
       "    <tr>\n",
       "      <th>2</th>\n",
       "      <td>F</td>\n",
       "      <td>0.4</td>\n",
       "      <td>0.625000</td>\n",
       "      <td>0.00</td>\n",
       "    </tr>\n",
       "    <tr>\n",
       "      <th>3</th>\n",
       "      <td>C</td>\n",
       "      <td>1.0</td>\n",
       "      <td>1.000000</td>\n",
       "      <td>0.75</td>\n",
       "    </tr>\n",
       "    <tr>\n",
       "      <th>4</th>\n",
       "      <td>D</td>\n",
       "      <td>0.2</td>\n",
       "      <td>0.555556</td>\n",
       "      <td>0.00</td>\n",
       "    </tr>\n",
       "    <tr>\n",
       "      <th>5</th>\n",
       "      <td>E</td>\n",
       "      <td>0.2</td>\n",
       "      <td>0.555556</td>\n",
       "      <td>0.00</td>\n",
       "    </tr>\n",
       "  </tbody>\n",
       "</table>\n",
       "</div>"
      ],
      "text/plain": [
       "  Node  Degree Centrality  Closeness Centrality  Betweenness Centrality\n",
       "0    A                0.6              0.714286                    0.05\n",
       "1    B                0.4              0.625000                    0.00\n",
       "2    F                0.4              0.625000                    0.00\n",
       "3    C                1.0              1.000000                    0.75\n",
       "4    D                0.2              0.555556                    0.00\n",
       "5    E                0.2              0.555556                    0.00"
      ]
     },
     "execution_count": 18,
     "metadata": {},
     "output_type": "execute_result"
    }
   ],
   "source": [
    "df_kpis.head(10)"
   ]
  },
  {
   "attachments": {},
   "cell_type": "markdown",
   "metadata": {},
   "source": [
    "Wir berechnen die Dichte des Netzwerks und lassen uns diese auch direkt ausgeben."
   ]
  },
  {
   "cell_type": "code",
   "execution_count": 19,
   "metadata": {},
   "outputs": [
    {
     "name": "stdout",
     "output_type": "stream",
     "text": [
      "Graph Density: 0.4666666666666667\n"
     ]
    }
   ],
   "source": [
    "graph_density = nx.density(G)\n",
    "\n",
    "print(f\"Graph Density: {graph_density}\")"
   ]
  },
  {
   "attachments": {},
   "cell_type": "markdown",
   "metadata": {},
   "source": [
    "## Glückwunsch. Fertig ist deine erste Netzwerkanalyse!"
   ]
  }
 ],
 "metadata": {
  "interpreter": {
   "hash": "f5d0c68b3634955201284245298b073852acfce933d3409198c92b2497f35c8f"
  },
  "kernelspec": {
   "display_name": "Python 3.10.4 ('d4t': conda)",
   "language": "python",
   "name": "python3"
  },
  "language_info": {
   "codemirror_mode": {
    "name": "ipython",
    "version": 3
   },
   "file_extension": ".py",
   "mimetype": "text/x-python",
   "name": "python",
   "nbconvert_exporter": "python",
   "pygments_lexer": "ipython3",
   "version": "3.10.4"
  },
  "orig_nbformat": 4
 },
 "nbformat": 4,
 "nbformat_minor": 2
}
